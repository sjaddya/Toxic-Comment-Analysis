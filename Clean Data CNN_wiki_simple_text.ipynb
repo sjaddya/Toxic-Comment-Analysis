{
 "cells": [
  {
   "cell_type": "code",
   "execution_count": 1,
   "metadata": {},
   "outputs": [
    {
     "name": "stderr",
     "output_type": "stream",
     "text": [
      "Using TensorFlow backend.\n"
     ]
    }
   ],
   "source": [
    "import numpy as np\n",
    "import pandas as pd\n",
    "import seaborn as sns\n",
    "import matplotlib.pyplot as plt\n",
    "\n",
    "import keras\n",
    "from keras import optimizers\n",
    "from keras import backend as K\n",
    "from keras import regularizers\n",
    "from keras.models import Sequential\n",
    "from keras.layers import Dense, Activation, Dropout, Flatten\n",
    "from keras.layers import Embedding, Conv1D, MaxPooling1D, GlobalMaxPooling1D \n",
    "from keras.utils import plot_model\n",
    "from keras.preprocessing import sequence\n",
    "from keras.preprocessing.text import Tokenizer\n",
    "from keras.callbacks import EarlyStopping\n",
    "\n",
    "from tqdm import tqdm\n",
    "from nltk.corpus import stopwords\n",
    "from nltk.tokenize import RegexpTokenizer \n",
    "import os, re, csv, math, codecs\n",
    "\n",
    "from sklearn.feature_extraction.text import TfidfVectorizer\n",
    "from sklearn.model_selection import train_test_split\n",
    "from sklearn.metrics import confusion_matrix\n",
    "from sklearn.metrics import accuracy_score, f1_score, recall_score\n",
    "\n",
    "sns.set_style(\"whitegrid\")\n",
    "np.random.seed(0)\n",
    "\n",
    "\n",
    "MAX_NB_WORDS = 100000\n",
    "tokenizer = RegexpTokenizer(r'\\w+')\n",
    "stop_words = set(stopwords.words('english'))\n",
    "stop_words.update(['.', ',', '\"', \"'\", ':', ';', '(', ')', '[', ']', '{', '}'])\n",
    "\n",
    "from subprocess import check_output\n",
    "import warnings\n",
    "warnings.filterwarnings('ignore')"
   ]
  },
  {
   "cell_type": "code",
   "execution_count": 2,
   "metadata": {},
   "outputs": [],
   "source": [
    "data = pd.read_csv(\"train.csv\")"
   ]
  },
  {
   "cell_type": "code",
   "execution_count": 3,
   "metadata": {},
   "outputs": [],
   "source": [
    "def clean_text(cmnt_text, clean_wiki_tokens = True):\n",
    "    cmnt_text = cmnt_text.lower()\n",
    "    #removing links\n",
    "    cmnt_text = re.sub(r\"https?:\\/\\/(www\\.)?[-a-zA-Z0-9@:%._\\+~#=]{2,256}\\.[a-z]{2,6}\\b([-a-zA-Z0-9@:%_\\+.~#?&//=]*)\", \"\", cmnt_text)\n",
    "    #removing IP addresses\n",
    "    cmnt_text = re.sub(r\"(25[0-5]|2[0-4][0-9]|[01]?[0-9][0-9]?)(\\.(25[0-5]|2[0-4][0-9]|[01]?[0-9][0-9]?)){3}\", \"\", cmnt_text)\n",
    "    \n",
    "    if clean_wiki_tokens:\n",
    "        #removing images\n",
    "        cmnt_text = re.sub(r\"image:[a-zA-Z0-9]*\\.jpg\", \" \", cmnt_text)\n",
    "        cmnt_text = re.sub(r\"image:[a-zA-Z0-9]*\\.png\", \" \", cmnt_text)\n",
    "        cmnt_text = re.sub(r\"image:[a-zA-Z0-9]*\\.gif\", \" \", cmnt_text)\n",
    "        cmnt_text = re.sub(r\"image:[a-zA-Z0-9]*\\.bmp\", \" \", cmnt_text)\n",
    "        \n",
    "        #removing CSS\n",
    "        cmnt_text = re.sub(r\"#([A-Fa-f0-9]{6}|[A-Fa-f0-9]{3})\", \" \",cmnt_text)\n",
    "        cmnt_text = re.sub(r\"\\{\\|[^\\}]*\\|\\}\", \" \", cmnt_text)\n",
    "        \n",
    "        #removing templates\n",
    "        cmnt_text = re.sub(r\"\\[?\\[user:.*\\]\", \" \", cmnt_text)\n",
    "        cmnt_text = re.sub(r\"\\[?\\[wikipedia:.*\\]\", \" \", cmnt_text)\n",
    "        cmnt_text = re.sub(r\"\\[?\\[special:.*\\]\", \" \", cmnt_text)\n",
    "        cmnt_text = re.sub(r\"\\[?\\[category:.*\\]\", \" \", cmnt_text)\n",
    "        \n",
    "    cmnt_text = re.sub(r\"what's\", \"what is \", cmnt_text)\n",
    "    cmnt_text = re.sub(r\"\\'s\", \" \", cmnt_text)\n",
    "    cmnt_text = re.sub(r\"\\'ve\", \" have \", cmnt_text)\n",
    "    cmnt_text = re.sub(r\"can't\", \" cannot \", cmnt_text)\n",
    "    cmnt_text = re.sub(r\"n't\", \" not \", cmnt_text)\n",
    "    cmnt_text = re.sub(r\"i'm\", \" i am \", cmnt_text)\n",
    "    cmnt_text = re.sub(r\"\\'m\", \" i am \", cmnt_text)\n",
    "    cmnt_text = re.sub(r\"\\'re\", \" are \", cmnt_text)\n",
    "    cmnt_text = re.sub(r\"\\'d\", \" would \", cmnt_text)\n",
    "    cmnt_text = re.sub(r\"\\'ll\", \" will \", cmnt_text)\n",
    "    cmnt_text = re.sub(r\",\", \" \", cmnt_text)\n",
    "    cmnt_text = re.sub(r\"\\.\", \" \", cmnt_text)\n",
    "    cmnt_text = re.sub(r\"!\", \" ! \", cmnt_text)\n",
    "    cmnt_text = re.sub(r\"\\/\", \" \", cmnt_text)\n",
    "    cmnt_text = re.sub(r\"\\?\", \" ? \", cmnt_text)\n",
    "    cmnt_text = re.sub(r\"\\!\", \" ! \", cmnt_text)\n",
    "    cmnt_text = re.sub(r\"\\\"\", \" \", cmnt_text)\n",
    "    cmnt_text = re.sub(r\"\\^\", \" ^ \", cmnt_text)\n",
    "    cmnt_text = re.sub(r\"\\+\", \" + \", cmnt_text)\n",
    "    cmnt_text = re.sub(r\"\\-\", \" - \", cmnt_text)\n",
    "    cmnt_text = re.sub(r\"\\=\", \" = \", cmnt_text)\n",
    "    cmnt_text = re.sub(r\"'\", \" \", cmnt_text)\n",
    "    cmnt_text = re.sub(r\"(\\d+)(k)\", r\"\\g<1>000\", cmnt_text)\n",
    "    cmnt_text = re.sub(r\":\", \" : \", cmnt_text)\n",
    "    cmnt_text = re.sub(r\" e g \", \" eg \", cmnt_text)\n",
    "    cmnt_text = re.sub(r\" b g \", \" bg \", cmnt_text)\n",
    "    cmnt_text = re.sub(r\" u s \", \" american \", cmnt_text)\n",
    "    cmnt_text = re.sub(r\"\\0s\", \"0\", cmnt_text)\n",
    "    cmnt_text = re.sub(r\" 9 11 \", \"911\", cmnt_text)\n",
    "    cmnt_text = re.sub(r\"e - mail\", \"email\", cmnt_text)\n",
    "    cmnt_text = re.sub(r\"j k\", \"jk\", cmnt_text)\n",
    "    cmnt_text = re.sub(r\"\\s{2,}\", \" \", cmnt_text)\n",
    "    cmnt_text = re.sub(r\"\\n\", \" \", cmnt_text)\n",
    "    \n",
    "        \n",
    "    return(cmnt_text)"
   ]
  },
  {
   "cell_type": "code",
   "execution_count": 4,
   "metadata": {},
   "outputs": [
    {
     "data": {
      "text/plain": [
       "'Should say something about his views as an educationalist and socialist political commentator.\\n\\nLink to http://www.langandlit.ualberta.ca/Fall2004/SteigelBainbridge.html mentions this a bit - he stood as an election candidate for Respect.'"
      ]
     },
     "execution_count": 4,
     "metadata": {},
     "output_type": "execute_result"
    }
   ],
   "source": [
    "data['comment_text'][123]"
   ]
  },
  {
   "cell_type": "code",
   "execution_count": 5,
   "metadata": {},
   "outputs": [
    {
     "name": "stdout",
     "output_type": "stream",
     "text": [
      "should say something about his views as an educationalist and socialist political commentator link to mentions this a bit - he stood as an election candidate for respect \n"
     ]
    }
   ],
   "source": [
    "txt = clean_text(data['comment_text'][123])\n",
    "print(txt)"
   ]
  },
  {
   "cell_type": "code",
   "execution_count": 6,
   "metadata": {},
   "outputs": [],
   "source": [
    "data['clean_cmnts'] = data['comment_text'].apply(clean_text)"
   ]
  },
  {
   "cell_type": "code",
   "execution_count": 7,
   "metadata": {},
   "outputs": [
    {
     "data": {
      "text/html": [
       "<div>\n",
       "<style scoped>\n",
       "    .dataframe tbody tr th:only-of-type {\n",
       "        vertical-align: middle;\n",
       "    }\n",
       "\n",
       "    .dataframe tbody tr th {\n",
       "        vertical-align: top;\n",
       "    }\n",
       "\n",
       "    .dataframe thead th {\n",
       "        text-align: right;\n",
       "    }\n",
       "</style>\n",
       "<table border=\"1\" class=\"dataframe\">\n",
       "  <thead>\n",
       "    <tr style=\"text-align: right;\">\n",
       "      <th></th>\n",
       "      <th>id</th>\n",
       "      <th>comment_text</th>\n",
       "      <th>toxic</th>\n",
       "      <th>severe_toxic</th>\n",
       "      <th>obscene</th>\n",
       "      <th>threat</th>\n",
       "      <th>insult</th>\n",
       "      <th>identity_hate</th>\n",
       "      <th>clean_cmnts</th>\n",
       "    </tr>\n",
       "  </thead>\n",
       "  <tbody>\n",
       "    <tr>\n",
       "      <th>0</th>\n",
       "      <td>0000997932d777bf</td>\n",
       "      <td>Explanation\\nWhy the edits made under my usern...</td>\n",
       "      <td>0</td>\n",
       "      <td>0</td>\n",
       "      <td>0</td>\n",
       "      <td>0</td>\n",
       "      <td>0</td>\n",
       "      <td>0</td>\n",
       "      <td>explanation why the edits made under my userna...</td>\n",
       "    </tr>\n",
       "    <tr>\n",
       "      <th>1</th>\n",
       "      <td>000103f0d9cfb60f</td>\n",
       "      <td>D'aww! He matches this background colour I'm s...</td>\n",
       "      <td>0</td>\n",
       "      <td>0</td>\n",
       "      <td>0</td>\n",
       "      <td>0</td>\n",
       "      <td>0</td>\n",
       "      <td>0</td>\n",
       "      <td>d aww ! he matches this background colour i am...</td>\n",
       "    </tr>\n",
       "    <tr>\n",
       "      <th>2</th>\n",
       "      <td>000113f07ec002fd</td>\n",
       "      <td>Hey man, I'm really not trying to edit war. It...</td>\n",
       "      <td>0</td>\n",
       "      <td>0</td>\n",
       "      <td>0</td>\n",
       "      <td>0</td>\n",
       "      <td>0</td>\n",
       "      <td>0</td>\n",
       "      <td>hey man i am really not trying to edit war it ...</td>\n",
       "    </tr>\n",
       "    <tr>\n",
       "      <th>3</th>\n",
       "      <td>0001b41b1c6bb37e</td>\n",
       "      <td>\"\\nMore\\nI can't make any real suggestions on ...</td>\n",
       "      <td>0</td>\n",
       "      <td>0</td>\n",
       "      <td>0</td>\n",
       "      <td>0</td>\n",
       "      <td>0</td>\n",
       "      <td>0</td>\n",
       "      <td>more i cannot make any real suggestions on im...</td>\n",
       "    </tr>\n",
       "    <tr>\n",
       "      <th>4</th>\n",
       "      <td>0001d958c54c6e35</td>\n",
       "      <td>You, sir, are my hero. Any chance you remember...</td>\n",
       "      <td>0</td>\n",
       "      <td>0</td>\n",
       "      <td>0</td>\n",
       "      <td>0</td>\n",
       "      <td>0</td>\n",
       "      <td>0</td>\n",
       "      <td>you sir are my hero any chance you remember wh...</td>\n",
       "    </tr>\n",
       "  </tbody>\n",
       "</table>\n",
       "</div>"
      ],
      "text/plain": [
       "                 id                                       comment_text  toxic  \\\n",
       "0  0000997932d777bf  Explanation\\nWhy the edits made under my usern...      0   \n",
       "1  000103f0d9cfb60f  D'aww! He matches this background colour I'm s...      0   \n",
       "2  000113f07ec002fd  Hey man, I'm really not trying to edit war. It...      0   \n",
       "3  0001b41b1c6bb37e  \"\\nMore\\nI can't make any real suggestions on ...      0   \n",
       "4  0001d958c54c6e35  You, sir, are my hero. Any chance you remember...      0   \n",
       "\n",
       "   severe_toxic  obscene  threat  insult  identity_hate  \\\n",
       "0             0        0       0       0              0   \n",
       "1             0        0       0       0              0   \n",
       "2             0        0       0       0              0   \n",
       "3             0        0       0       0              0   \n",
       "4             0        0       0       0              0   \n",
       "\n",
       "                                         clean_cmnts  \n",
       "0  explanation why the edits made under my userna...  \n",
       "1  d aww ! he matches this background colour i am...  \n",
       "2  hey man i am really not trying to edit war it ...  \n",
       "3   more i cannot make any real suggestions on im...  \n",
       "4  you sir are my hero any chance you remember wh...  "
      ]
     },
     "execution_count": 7,
     "metadata": {},
     "output_type": "execute_result"
    }
   ],
   "source": [
    "data.head()"
   ]
  },
  {
   "cell_type": "code",
   "execution_count": 8,
   "metadata": {},
   "outputs": [],
   "source": [
    "data = data.drop(['comment_text'], axis=1)"
   ]
  },
  {
   "cell_type": "code",
   "execution_count": 9,
   "metadata": {},
   "outputs": [
    {
     "data": {
      "text/html": [
       "<div>\n",
       "<style scoped>\n",
       "    .dataframe tbody tr th:only-of-type {\n",
       "        vertical-align: middle;\n",
       "    }\n",
       "\n",
       "    .dataframe tbody tr th {\n",
       "        vertical-align: top;\n",
       "    }\n",
       "\n",
       "    .dataframe thead th {\n",
       "        text-align: right;\n",
       "    }\n",
       "</style>\n",
       "<table border=\"1\" class=\"dataframe\">\n",
       "  <thead>\n",
       "    <tr style=\"text-align: right;\">\n",
       "      <th></th>\n",
       "      <th>id</th>\n",
       "      <th>toxic</th>\n",
       "      <th>severe_toxic</th>\n",
       "      <th>obscene</th>\n",
       "      <th>threat</th>\n",
       "      <th>insult</th>\n",
       "      <th>identity_hate</th>\n",
       "      <th>clean_cmnts</th>\n",
       "    </tr>\n",
       "  </thead>\n",
       "  <tbody>\n",
       "    <tr>\n",
       "      <th>0</th>\n",
       "      <td>0000997932d777bf</td>\n",
       "      <td>0</td>\n",
       "      <td>0</td>\n",
       "      <td>0</td>\n",
       "      <td>0</td>\n",
       "      <td>0</td>\n",
       "      <td>0</td>\n",
       "      <td>explanation why the edits made under my userna...</td>\n",
       "    </tr>\n",
       "    <tr>\n",
       "      <th>1</th>\n",
       "      <td>000103f0d9cfb60f</td>\n",
       "      <td>0</td>\n",
       "      <td>0</td>\n",
       "      <td>0</td>\n",
       "      <td>0</td>\n",
       "      <td>0</td>\n",
       "      <td>0</td>\n",
       "      <td>d aww ! he matches this background colour i am...</td>\n",
       "    </tr>\n",
       "    <tr>\n",
       "      <th>2</th>\n",
       "      <td>000113f07ec002fd</td>\n",
       "      <td>0</td>\n",
       "      <td>0</td>\n",
       "      <td>0</td>\n",
       "      <td>0</td>\n",
       "      <td>0</td>\n",
       "      <td>0</td>\n",
       "      <td>hey man i am really not trying to edit war it ...</td>\n",
       "    </tr>\n",
       "    <tr>\n",
       "      <th>3</th>\n",
       "      <td>0001b41b1c6bb37e</td>\n",
       "      <td>0</td>\n",
       "      <td>0</td>\n",
       "      <td>0</td>\n",
       "      <td>0</td>\n",
       "      <td>0</td>\n",
       "      <td>0</td>\n",
       "      <td>more i cannot make any real suggestions on im...</td>\n",
       "    </tr>\n",
       "    <tr>\n",
       "      <th>4</th>\n",
       "      <td>0001d958c54c6e35</td>\n",
       "      <td>0</td>\n",
       "      <td>0</td>\n",
       "      <td>0</td>\n",
       "      <td>0</td>\n",
       "      <td>0</td>\n",
       "      <td>0</td>\n",
       "      <td>you sir are my hero any chance you remember wh...</td>\n",
       "    </tr>\n",
       "  </tbody>\n",
       "</table>\n",
       "</div>"
      ],
      "text/plain": [
       "                 id  toxic  severe_toxic  obscene  threat  insult  \\\n",
       "0  0000997932d777bf      0             0        0       0       0   \n",
       "1  000103f0d9cfb60f      0             0        0       0       0   \n",
       "2  000113f07ec002fd      0             0        0       0       0   \n",
       "3  0001b41b1c6bb37e      0             0        0       0       0   \n",
       "4  0001d958c54c6e35      0             0        0       0       0   \n",
       "\n",
       "   identity_hate                                        clean_cmnts  \n",
       "0              0  explanation why the edits made under my userna...  \n",
       "1              0  d aww ! he matches this background colour i am...  \n",
       "2              0  hey man i am really not trying to edit war it ...  \n",
       "3              0   more i cannot make any real suggestions on im...  \n",
       "4              0  you sir are my hero any chance you remember wh...  "
      ]
     },
     "execution_count": 9,
     "metadata": {},
     "output_type": "execute_result"
    }
   ],
   "source": [
    "data.head()"
   ]
  },
  {
   "cell_type": "code",
   "execution_count": 10,
   "metadata": {},
   "outputs": [
    {
     "name": "stderr",
     "output_type": "stream",
     "text": [
      "204it [00:00, 2037.59it/s]"
     ]
    },
    {
     "name": "stdout",
     "output_type": "stream",
     "text": [
      "loading word embeddings...\n"
     ]
    },
    {
     "name": "stderr",
     "output_type": "stream",
     "text": [
      "111052it [00:14, 7921.18it/s]"
     ]
    },
    {
     "name": "stdout",
     "output_type": "stream",
     "text": [
      "found 111052 word vectors\n"
     ]
    },
    {
     "name": "stderr",
     "output_type": "stream",
     "text": [
      "\n"
     ]
    }
   ],
   "source": [
    "#load embeddings\n",
    "print('loading word embeddings...')\n",
    "embeddings_index = {}\n",
    "f = codecs.open('wiki.simple.vec', encoding='utf-8')\n",
    "for line in tqdm(f):\n",
    "    values = line.rstrip().rsplit(' ')\n",
    "    word = values[0]\n",
    "    coefs = np.asarray(values[1:], dtype='float32')\n",
    "    embeddings_index[word] = coefs\n",
    "f.close()\n",
    "print('found %s word vectors' % len(embeddings_index))"
   ]
  },
  {
   "cell_type": "code",
   "execution_count": 11,
   "metadata": {},
   "outputs": [
    {
     "name": "stdout",
     "output_type": "stream",
     "text": [
      "num train:  159571\n"
     ]
    },
    {
     "data": {
      "image/png": "[encoded data removed]",
      "text/plain": [
       "<Figure size 432x288 with 1 Axes>"
      ]
     },
     "metadata": {
      "needs_background": "light"
     },
     "output_type": "display_data"
    },
    {
     "name": "stdout",
     "output_type": "stream",
     "text": [
      "180\n"
     ]
    }
   ],
   "source": [
    "print(\"num train: \", data.shape[0])\n",
    "\n",
    "label_names = [\"toxic\", \"severe_toxic\", \"obscene\", \"threat\", \"insult\", \"identity_hate\"]\n",
    "\n",
    "#visualize word distribution\n",
    "data['doc_len'] = data['clean_cmnts'].apply(lambda words: len(words.split(\" \")))\n",
    "max_seq_len = np.round(data['doc_len'].mean() + data['doc_len'].std()).astype(int)\n",
    "sns.distplot(data['doc_len'], hist=True, kde=True, color='b', label='doc len')\n",
    "plt.axvline(x=max_seq_len, color='k', linestyle='--', label='max len')\n",
    "plt.title('comment length'); plt.legend()\n",
    "plt.show()\n",
    "print(max_seq_len)"
   ]
  },
  {
   "cell_type": "code",
   "execution_count": 12,
   "metadata": {},
   "outputs": [
    {
     "data": {
      "text/html": [
       "<div>\n",
       "<style scoped>\n",
       "    .dataframe tbody tr th:only-of-type {\n",
       "        vertical-align: middle;\n",
       "    }\n",
       "\n",
       "    .dataframe tbody tr th {\n",
       "        vertical-align: top;\n",
       "    }\n",
       "\n",
       "    .dataframe thead th {\n",
       "        text-align: right;\n",
       "    }\n",
       "</style>\n",
       "<table border=\"1\" class=\"dataframe\">\n",
       "  <thead>\n",
       "    <tr style=\"text-align: right;\">\n",
       "      <th></th>\n",
       "      <th>id</th>\n",
       "      <th>toxic</th>\n",
       "      <th>severe_toxic</th>\n",
       "      <th>obscene</th>\n",
       "      <th>threat</th>\n",
       "      <th>insult</th>\n",
       "      <th>identity_hate</th>\n",
       "      <th>clean_cmnts</th>\n",
       "      <th>doc_len</th>\n",
       "    </tr>\n",
       "  </thead>\n",
       "  <tbody>\n",
       "    <tr>\n",
       "      <th>0</th>\n",
       "      <td>0000997932d777bf</td>\n",
       "      <td>0</td>\n",
       "      <td>0</td>\n",
       "      <td>0</td>\n",
       "      <td>0</td>\n",
       "      <td>0</td>\n",
       "      <td>0</td>\n",
       "      <td>explanation why the edits made under my userna...</td>\n",
       "      <td>48</td>\n",
       "    </tr>\n",
       "    <tr>\n",
       "      <th>1</th>\n",
       "      <td>000103f0d9cfb60f</td>\n",
       "      <td>0</td>\n",
       "      <td>0</td>\n",
       "      <td>0</td>\n",
       "      <td>0</td>\n",
       "      <td>0</td>\n",
       "      <td>0</td>\n",
       "      <td>d aww ! he matches this background colour i am...</td>\n",
       "      <td>22</td>\n",
       "    </tr>\n",
       "    <tr>\n",
       "      <th>2</th>\n",
       "      <td>000113f07ec002fd</td>\n",
       "      <td>0</td>\n",
       "      <td>0</td>\n",
       "      <td>0</td>\n",
       "      <td>0</td>\n",
       "      <td>0</td>\n",
       "      <td>0</td>\n",
       "      <td>hey man i am really not trying to edit war it ...</td>\n",
       "      <td>44</td>\n",
       "    </tr>\n",
       "    <tr>\n",
       "      <th>3</th>\n",
       "      <td>0001b41b1c6bb37e</td>\n",
       "      <td>0</td>\n",
       "      <td>0</td>\n",
       "      <td>0</td>\n",
       "      <td>0</td>\n",
       "      <td>0</td>\n",
       "      <td>0</td>\n",
       "      <td>more i cannot make any real suggestions on im...</td>\n",
       "      <td>118</td>\n",
       "    </tr>\n",
       "    <tr>\n",
       "      <th>4</th>\n",
       "      <td>0001d958c54c6e35</td>\n",
       "      <td>0</td>\n",
       "      <td>0</td>\n",
       "      <td>0</td>\n",
       "      <td>0</td>\n",
       "      <td>0</td>\n",
       "      <td>0</td>\n",
       "      <td>you sir are my hero any chance you remember wh...</td>\n",
       "      <td>15</td>\n",
       "    </tr>\n",
       "  </tbody>\n",
       "</table>\n",
       "</div>"
      ],
      "text/plain": [
       "                 id  toxic  severe_toxic  obscene  threat  insult  \\\n",
       "0  0000997932d777bf      0             0        0       0       0   \n",
       "1  000103f0d9cfb60f      0             0        0       0       0   \n",
       "2  000113f07ec002fd      0             0        0       0       0   \n",
       "3  0001b41b1c6bb37e      0             0        0       0       0   \n",
       "4  0001d958c54c6e35      0             0        0       0       0   \n",
       "\n",
       "   identity_hate                                        clean_cmnts  doc_len  \n",
       "0              0  explanation why the edits made under my userna...       48  \n",
       "1              0  d aww ! he matches this background colour i am...       22  \n",
       "2              0  hey man i am really not trying to edit war it ...       44  \n",
       "3              0   more i cannot make any real suggestions on im...      118  \n",
       "4              0  you sir are my hero any chance you remember wh...       15  "
      ]
     },
     "execution_count": 12,
     "metadata": {},
     "output_type": "execute_result"
    }
   ],
   "source": [
    "data.head()"
   ]
  },
  {
   "cell_type": "code",
   "execution_count": 13,
   "metadata": {},
   "outputs": [],
   "source": [
    "X = data[['clean_cmnts']]\n",
    "y = data[label_names].values"
   ]
  },
  {
   "cell_type": "code",
   "execution_count": 14,
   "metadata": {},
   "outputs": [],
   "source": [
    "X_train, X_test, y_train, y_test = train_test_split(X, y, test_size = 0.3, random_state = 42)"
   ]
  },
  {
   "cell_type": "code",
   "execution_count": 15,
   "metadata": {},
   "outputs": [
    {
     "name": "stderr",
     "output_type": "stream",
     "text": [
      "  1%|          | 1387/111699 [00:00<00:07, 13840.41it/s]"
     ]
    },
    {
     "name": "stdout",
     "output_type": "stream",
     "text": [
      "pre-processing train data...\n"
     ]
    },
    {
     "name": "stderr",
     "output_type": "stream",
     "text": [
      "100%|██████████| 111699/111699 [00:04<00:00, 26913.42it/s]\n",
      "100%|██████████| 47872/47872 [00:01<00:00, 28569.66it/s]\n"
     ]
    },
    {
     "name": "stdout",
     "output_type": "stream",
     "text": [
      "tokenizing input data...\n",
      "dictionary size:  179247\n"
     ]
    }
   ],
   "source": [
    "raw_docs_train = X_train['clean_cmnts'].tolist()\n",
    "raw_docs_test = X_test['clean_cmnts'].tolist() \n",
    "num_classes = len(label_names)\n",
    "\n",
    "print(\"pre-processing train data...\")\n",
    "processed_docs_train = []\n",
    "for doc in tqdm(raw_docs_train):\n",
    "    tokens = tokenizer.tokenize(doc)\n",
    "    filtered = [word for word in tokens if word not in stop_words]\n",
    "    processed_docs_train.append(\" \".join(filtered))\n",
    "#end for\n",
    "\n",
    "#print(\"pre-processing test data...\")\n",
    "processed_docs_test = []\n",
    "for doc in tqdm(raw_docs_test):\n",
    "    tokens = tokenizer.tokenize(doc)\n",
    "    filtered = [word for word in tokens if word not in stop_words]\n",
    "    processed_docs_test.append(\" \".join(filtered))\n",
    "#end for\n",
    "\n",
    "print(\"tokenizing input data...\")\n",
    "tokenizer = Tokenizer(num_words=MAX_NB_WORDS, lower=True, char_level=False)\n",
    "tokenizer.fit_on_texts(processed_docs_train + processed_docs_test)  #leaky\n",
    "word_seq_train = tokenizer.texts_to_sequences(processed_docs_train)\n",
    "word_seq_test = tokenizer.texts_to_sequences(processed_docs_test)\n",
    "word_index = tokenizer.word_index\n",
    "print(\"dictionary size: \", len(word_index))\n",
    "\n",
    "#pad sequences\n",
    "word_seq_train = sequence.pad_sequences(word_seq_train, maxlen=max_seq_len)\n",
    "word_seq_test = sequence.pad_sequences(word_seq_test, maxlen=max_seq_len)"
   ]
  },
  {
   "cell_type": "code",
   "execution_count": 16,
   "metadata": {},
   "outputs": [],
   "source": [
    "#training params\n",
    "batch_size = 256 \n",
    "num_epochs = 8 \n",
    "\n",
    "#model parameters\n",
    "num_filters = 64 \n",
    "embed_dim = 300 \n",
    "weight_decay = 1e-4"
   ]
  },
  {
   "cell_type": "code",
   "execution_count": 17,
   "metadata": {},
   "outputs": [
    {
     "name": "stdout",
     "output_type": "stream",
     "text": [
      "preparing embedding matrix...\n",
      "number of null word embeddings: 50556\n"
     ]
    }
   ],
   "source": [
    "#embedding matrix\n",
    "print('preparing embedding matrix...')\n",
    "words_not_found = []\n",
    "nb_words = min(MAX_NB_WORDS, len(word_index))\n",
    "embedding_matrix = np.zeros((nb_words, embed_dim))\n",
    "for word, i in word_index.items():\n",
    "    if i >= nb_words:\n",
    "        continue\n",
    "    embedding_vector = embeddings_index.get(word)\n",
    "    if (embedding_vector is not None) and len(embedding_vector) > 0:\n",
    "        # words not found in embedding index will be all-zeros.\n",
    "        embedding_matrix[i] = embedding_vector\n",
    "    else:\n",
    "        words_not_found.append(word)\n",
    "print('number of null word embeddings: %d' % np.sum(np.sum(embedding_matrix, axis=1) == 0))"
   ]
  },
  {
   "cell_type": "code",
   "execution_count": 18,
   "metadata": {},
   "outputs": [
    {
     "name": "stdout",
     "output_type": "stream",
     "text": [
      "training CNN ...\n",
      "WARNING:tensorflow:From /home/sjaddya/anaconda3/lib/python3.7/site-packages/tensorflow/python/framework/op_def_library.py:263: colocate_with (from tensorflow.python.framework.ops) is deprecated and will be removed in a future version.\n",
      "Instructions for updating:\n",
      "Colocations handled automatically by placer.\n",
      "WARNING:tensorflow:From /home/sjaddya/anaconda3/lib/python3.7/site-packages/keras/backend/tensorflow_backend.py:3445: calling dropout (from tensorflow.python.ops.nn_ops) with keep_prob is deprecated and will be removed in a future version.\n",
      "Instructions for updating:\n",
      "Please use `rate` instead of `keep_prob`. Rate should be set to `rate = 1 - keep_prob`.\n",
      "_________________________________________________________________\n",
      "Layer (type)                 Output Shape              Param #   \n",
      "=================================================================\n",
      "embedding_1 (Embedding)      (None, 180, 300)          30000000  \n",
      "_________________________________________________________________\n",
      "conv1d_1 (Conv1D)            (None, 180, 64)           134464    \n",
      "_________________________________________________________________\n",
      "max_pooling1d_1 (MaxPooling1 (None, 90, 64)            0         \n",
      "_________________________________________________________________\n",
      "conv1d_2 (Conv1D)            (None, 90, 64)            28736     \n",
      "_________________________________________________________________\n",
      "global_max_pooling1d_1 (Glob (None, 64)                0         \n",
      "_________________________________________________________________\n",
      "dropout_1 (Dropout)          (None, 64)                0         \n",
      "_________________________________________________________________\n",
      "dense_1 (Dense)              (None, 32)                2080      \n",
      "_________________________________________________________________\n",
      "dense_2 (Dense)              (None, 6)                 198       \n",
      "=================================================================\n",
      "Total params: 30,165,478\n",
      "Trainable params: 165,478\n",
      "Non-trainable params: 30,000,000\n",
      "_________________________________________________________________\n"
     ]
    }
   ],
   "source": [
    "#CNN architecture\n",
    "print(\"training CNN ...\")\n",
    "model = Sequential()\n",
    "model.add(Embedding(nb_words, embed_dim,\n",
    "          weights=[embedding_matrix], input_length=max_seq_len, trainable=False))\n",
    "model.add(Conv1D(num_filters, 7, activation='relu', padding='same'))\n",
    "model.add(MaxPooling1D(2))\n",
    "model.add(Conv1D(num_filters, 7, activation='relu', padding='same'))\n",
    "model.add(GlobalMaxPooling1D())\n",
    "model.add(Dropout(0.5))\n",
    "model.add(Dense(32, activation='relu', kernel_regularizer=regularizers.l2(weight_decay)))\n",
    "model.add(Dense(num_classes, activation='sigmoid'))  #multi-label (k-hot encoding)\n",
    "\n",
    "adam = optimizers.Adam(lr=0.001, beta_1=0.9, beta_2=0.999, epsilon=1e-08, decay=0.0)\n",
    "model.compile(loss='binary_crossentropy', optimizer=adam, metrics=['accuracy'])\n",
    "model.summary()"
   ]
  },
  {
   "cell_type": "code",
   "execution_count": 19,
   "metadata": {},
   "outputs": [],
   "source": [
    "#define callbacks\n",
    "early_stopping = EarlyStopping(monitor='val_loss', min_delta=0.01, patience=4, verbose=1)\n",
    "callbacks_list = [early_stopping]"
   ]
  },
  {
   "cell_type": "code",
   "execution_count": 20,
   "metadata": {},
   "outputs": [
    {
     "name": "stdout",
     "output_type": "stream",
     "text": [
      "WARNING:tensorflow:From /home/sjaddya/anaconda3/lib/python3.7/site-packages/tensorflow/python/ops/math_ops.py:3066: to_int32 (from tensorflow.python.ops.math_ops) is deprecated and will be removed in a future version.\n",
      "Instructions for updating:\n",
      "Use tf.cast instead.\n",
      "WARNING:tensorflow:From /home/sjaddya/anaconda3/lib/python3.7/site-packages/tensorflow/python/ops/math_grad.py:102: div (from tensorflow.python.ops.math_ops) is deprecated and will be removed in a future version.\n",
      "Instructions for updating:\n",
      "Deprecated in favor of operator or tf.math.divide.\n",
      "Train on 100529 samples, validate on 11170 samples\n",
      "Epoch 1/8\n",
      "100529/100529 [==============================] - 328s 3ms/step - loss: 0.1070 - acc: 0.9665 - val_loss: 0.0712 - val_acc: 0.9763\n",
      "Epoch 2/8\n",
      "100529/100529 [==============================] - 336s 3ms/step - loss: 0.0674 - acc: 0.9786 - val_loss: 0.0656 - val_acc: 0.9775\n",
      "Epoch 3/8\n",
      "100529/100529 [==============================] - 349s 3ms/step - loss: 0.0601 - acc: 0.9802 - val_loss: 0.0640 - val_acc: 0.9782\n",
      "Epoch 4/8\n",
      "100529/100529 [==============================] - 336s 3ms/step - loss: 0.0549 - acc: 0.9814 - val_loss: 0.0631 - val_acc: 0.9785\n",
      "Epoch 5/8\n",
      "100529/100529 [==============================] - 336s 3ms/step - loss: 0.0504 - acc: 0.9825 - val_loss: 0.0632 - val_acc: 0.9779\n",
      "Epoch 00005: early stopping\n"
     ]
    }
   ],
   "source": [
    "#model training\n",
    "hist = model.fit(word_seq_train, y_train, batch_size=batch_size, \n",
    "                 epochs=num_epochs, callbacks=callbacks_list, \n",
    "                 validation_split=0.1, shuffle=True, verbose=1)"
   ]
  },
  {
   "cell_type": "code",
   "execution_count": 40,
   "metadata": {},
   "outputs": [
    {
     "data": {
      "image/png": "[encoded data removed]",
      "text/plain": [
       "<Figure size 432x288 with 1 Axes>"
      ]
     },
     "metadata": {
      "needs_background": "light"
     },
     "output_type": "display_data"
    }
   ],
   "source": [
    "#generate plots\n",
    "plt.figure()\n",
    "plt.plot(hist.history['loss'], lw=2.0, color='b', label='train')\n",
    "plt.plot(hist.history['val_loss'], lw=2.0, color='r', label='val')\n",
    "plt.title('CNN Loss')\n",
    "plt.xlabel('Epochs')\n",
    "plt.ylabel('Cross-Entropy Loss')\n",
    "plt.legend(loc='upper right')\n",
    "plt.savefig('CNN_Loss.png', bbox_inches='tight')\n",
    "plt.show()"
   ]
  },
  {
   "cell_type": "code",
   "execution_count": 39,
   "metadata": {},
   "outputs": [
    {
     "data": {
      "image/png": "[encoded data removed]",
      "text/plain": [
       "<Figure size 432x288 with 1 Axes>"
      ]
     },
     "metadata": {
      "needs_background": "light"
     },
     "output_type": "display_data"
    }
   ],
   "source": [
    "plt.figure()\n",
    "plt.plot(hist.history['acc'], lw=2.0, color='b', label='train')\n",
    "plt.plot(hist.history['val_acc'], lw=2.0, color='r', label='val')\n",
    "plt.title('CNN Accuracy')\n",
    "plt.xlabel('Epochs')\n",
    "plt.ylabel('Accuracy')\n",
    "plt.legend(loc='upper left')\n",
    "plt.savefig('CNN_Accuracy.png', bbox_inches='tight')\n",
    "plt.show()"
   ]
  },
  {
   "cell_type": "code",
   "execution_count": 23,
   "metadata": {},
   "outputs": [],
   "source": [
    "y_pred = model.predict(word_seq_test)"
   ]
  },
  {
   "cell_type": "code",
   "execution_count": 24,
   "metadata": {},
   "outputs": [
    {
     "data": {
      "text/plain": [
       "array([[1.6714400e-01, 1.0523498e-03, 3.6810458e-02, 1.9738674e-03,\n",
       "        6.3367516e-02, 1.1613637e-02],\n",
       "       [6.2766671e-04, 1.4901161e-07, 8.3178282e-05, 1.1920929e-07,\n",
       "        1.0457635e-04, 4.3809414e-06],\n",
       "       [5.1612347e-02, 1.2993813e-05, 4.1614771e-03, 2.8312206e-05,\n",
       "        7.9929531e-03, 3.5744905e-04],\n",
       "       ...,\n",
       "       [3.1857014e-01, 1.3180941e-02, 9.8525047e-02, 1.9619912e-02,\n",
       "        1.5211338e-01, 4.6565413e-02],\n",
       "       [2.4167597e-03, 7.7486038e-07, 3.3381581e-04, 1.6093254e-06,\n",
       "        4.6730042e-04, 2.6434660e-05],\n",
       "       [2.8337538e-03, 8.6426735e-07, 5.2341819e-04, 6.5565109e-07,\n",
       "        6.3961744e-04, 2.6315451e-05]], dtype=float32)"
      ]
     },
     "execution_count": 24,
     "metadata": {},
     "output_type": "execute_result"
    }
   ],
   "source": [
    "y_pred"
   ]
  },
  {
   "cell_type": "code",
   "execution_count": 25,
   "metadata": {},
   "outputs": [],
   "source": [
    "p = y_pred.round()"
   ]
  },
  {
   "cell_type": "code",
   "execution_count": 27,
   "metadata": {},
   "outputs": [
    {
     "name": "stdout",
     "output_type": "stream",
     "text": [
      "toxic\n",
      "[[42421   869]\n",
      " [ 1319  3263]]\n",
      "f1_score:  0.7489098003213219\n",
      "Accuracy:  0.9542947860962567\n",
      "recall_score:  0.7121344391095591\n",
      "\n",
      "\n",
      "severe_toxic\n",
      "[[47304    82]\n",
      " [  371   115]]\n",
      "f1_score:  0.3367496339677892\n",
      "Accuracy:  0.9905372660427807\n",
      "recall_score:  0.2366255144032922\n",
      "\n",
      "\n",
      "obscene\n",
      "[[44775   541]\n",
      " [  569  1987]]\n",
      "f1_score:  0.7816679779701022\n",
      "Accuracy:  0.9768131684491979\n",
      "recall_score:  0.7773865414710485\n",
      "\n",
      "\n",
      "threat\n",
      "[[47736     0]\n",
      " [  136     0]]\n",
      "f1_score:  0.0\n",
      "Accuracy:  0.9971590909090909\n",
      "recall_score:  0.0\n",
      "\n",
      "\n",
      "insult\n",
      "[[44666   817]\n",
      " [  679  1710]]\n",
      "f1_score:  0.6956875508543531\n",
      "Accuracy:  0.96875\n",
      "recall_score:  0.7157806613645877\n",
      "\n",
      "\n",
      "identity_hate\n",
      "[[47440     0]\n",
      " [  432     0]]\n",
      "f1_score:  0.0\n",
      "Accuracy:  0.990975935828877\n",
      "recall_score:  0.0\n",
      "\n",
      "\n"
     ]
    }
   ],
   "source": [
    "for i, j in enumerate(label_names):\n",
    "    print(j)\n",
    "    print(confusion_matrix(y_test[:, i], p[:, i]))\n",
    "    print(\"f1_score: \",f1_score(y_test[:, i], p[:, i]))\n",
    "    print(\"Accuracy: \",accuracy_score(y_test[:, i], p[:, i]))\n",
    "    print(\"recall_score: \",recall_score(y_test[:, i], p[:, i]))\n",
    "    print('\\n')"
   ]
  },
  {
   "cell_type": "code",
   "execution_count": 29,
   "metadata": {},
   "outputs": [
    {
     "data": {
      "text/plain": [
       "array([[0., 0., 0., 0., 0., 0.],\n",
       "       [0., 0., 0., 0., 0., 0.]])"
      ]
     },
     "execution_count": 29,
     "metadata": {},
     "output_type": "execute_result"
    }
   ],
   "source": [
    "# Creating empty prediction array\n",
    "col = ['toxic', 'severe_toxic', 'obscene', 'threat','insult', 'identity_hate']\n",
    "\n",
    "# Predict on train, val and test datasets\n",
    "pred_train = model.predict(word_seq_train)\n",
    "pred_test = model.predict(word_seq_test)\n",
    "#pred_val = model.predict(X_val)\n",
    "\n",
    "# Emply array to collect AUC scores\n",
    "AUC = np.zeros((2,6))\n",
    "AUC"
   ]
  },
  {
   "cell_type": "code",
   "execution_count": 35,
   "metadata": {},
   "outputs": [
    {
     "name": "stdout",
     "output_type": "stream",
     "text": [
      "toxic Train AUC: 0.982418041029882 , Test AUC: 0.9589982429463006\n",
      "severe_toxic Train AUC: 0.9914167155410634 , Test AUC: 0.9825831942514318\n",
      "obscene Train AUC: 0.9914464550653026 , Test AUC: 0.9787199168668607\n",
      "threat Train AUC: 0.9743867347874942 , Test AUC: 0.9513041704866965\n",
      "insult Train AUC: 0.9854706572727103 , Test AUC: 0.9703491579110322\n",
      "identity_hate Train AUC: 0.9790215930553015 , Test AUC: 0.9564829209215538\n",
      "Average Train AUC: 0.9840266994586256 , Average Test AUC: 0.9664062672306458\n"
     ]
    }
   ],
   "source": [
    "from sklearn import metrics\n",
    "for i,x in enumerate(col):\n",
    "    auc = np.array([metrics.roc_auc_score(y_train[:,i], pred_train[:,i]),\n",
    "                    metrics.roc_auc_score(y_test[:,i], pred_test[:,i])])\n",
    "    print(x,\"Train AUC:\",auc[0],\", Test AUC:\",auc[1])\n",
    "    AUC[:,i] = auc\n",
    "    \n",
    "avg_auc = AUC.mean(axis=1)\n",
    "print(\"Average Train AUC:\",avg_auc[0],\", Average Test AUC:\",avg_auc[1])"
   ]
  },
  {
   "cell_type": "code",
   "execution_count": 32,
   "metadata": {},
   "outputs": [
    {
     "data": {
      "text/plain": [
       "array([[0, 0, 0, 0, 0, 0],\n",
       "       [0, 0, 0, 0, 0, 0],\n",
       "       [0, 0, 0, 0, 0, 0],\n",
       "       ...,\n",
       "       [0, 0, 0, 0, 0, 0],\n",
       "       [0, 0, 0, 0, 0, 0],\n",
       "       [0, 0, 0, 0, 0, 0]])"
      ]
     },
     "execution_count": 32,
     "metadata": {},
     "output_type": "execute_result"
    }
   ],
   "source": [
    "y_test"
   ]
  },
  {
   "cell_type": "code",
   "execution_count": 37,
   "metadata": {},
   "outputs": [
    {
     "name": "stdout",
     "output_type": "stream",
     "text": [
      "toxic\n",
      "[[99772  1215]\n",
      " [ 2183  8529]]\n",
      "f1_score:  0.8338873680093859\n",
      "Accuracy:  0.9695789577346261\n",
      "recall_score:  0.796209858103062\n",
      "\n",
      "\n",
      "severe_toxic\n",
      "[[110400    190]\n",
      " [   820    289]]\n",
      "f1_score:  0.36397984886649876\n",
      "Accuracy:  0.9909578420576729\n",
      "recall_score:  0.260595130748422\n",
      "\n",
      "\n",
      "obscene\n",
      "[[104678   1128]\n",
      " [   860   5033]]\n",
      "f1_score:  0.835075493612079\n",
      "Accuracy:  0.9822021683273798\n",
      "recall_score:  0.8540641438995419\n",
      "\n",
      "\n",
      "threat\n",
      "[[111357      0]\n",
      " [   342      0]]\n",
      "f1_score:  0.0\n",
      "Accuracy:  0.9969381999838852\n",
      "recall_score:  0.0\n",
      "\n",
      "\n",
      "insult\n",
      "[[104351   1860]\n",
      " [  1160   4328]]\n",
      "f1_score:  0.7413497773210003\n",
      "Accuracy:  0.9729630524892793\n",
      "recall_score:  0.7886297376093294\n",
      "\n",
      "\n",
      "identity_hate\n",
      "[[110726      0]\n",
      " [   973      0]]\n",
      "f1_score:  0.0\n",
      "Accuracy:  0.9912890894278373\n",
      "recall_score:  0.0\n",
      "\n",
      "\n"
     ]
    }
   ],
   "source": [
    "for i, j in enumerate(label_names):\n",
    "    print(j)\n",
    "    print(confusion_matrix(y_train[:, i], pred_train[:, i].round()))\n",
    "    print(\"f1_score: \",f1_score(y_train[:, i], pred_train[:, i].round()))\n",
    "    print(\"Accuracy: \",accuracy_score(y_train[:, i], pred_train[:, i].round()))\n",
    "    print(\"recall_score: \",recall_score(y_train[:, i], pred_train[:, i].round()))\n",
    "    print('\\n')"
   ]
  },
  {
   "cell_type": "code",
   "execution_count": null,
   "metadata": {},
   "outputs": [],
   "source": []
  }
 ],
 "metadata": {
  "kernelspec": {
   "display_name": "Python 3",
   "language": "python",
   "name": "python3"
  },
  "language_info": {
   "codemirror_mode": {
    "name": "ipython",
    "version": 3
   },
   "file_extension": ".py",
   "mimetype": "text/x-python",
   "name": "python",
   "nbconvert_exporter": "python",
   "pygments_lexer": "ipython3",
   "version": "3.7.1"
  }
 },
 "nbformat": 4,
 "nbformat_minor": 2
}
