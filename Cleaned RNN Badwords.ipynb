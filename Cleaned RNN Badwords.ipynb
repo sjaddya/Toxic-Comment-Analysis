{
 "cells": [
  {
   "cell_type": "code",
   "execution_count": 1,
   "metadata": {},
   "outputs": [
    {
     "name": "stderr",
     "output_type": "stream",
     "text": [
      "Using TensorFlow backend.\n"
     ]
    }
   ],
   "source": [
    "import pandas as pd\n",
    "import numpy as np\n",
    "import matplotlib.pyplot as plt\n",
    "%matplotlib inline\n",
    "\n",
    "import re\n",
    "\n",
    "# Importing required libraries\n",
    "from sklearn.model_selection import train_test_split\n",
    "from nltk.corpus import stopwords\n",
    "\n",
    "# keras\n",
    "from keras.preprocessing.text import Tokenizer\n",
    "from keras.preprocessing.sequence import pad_sequences\n",
    "from keras.utils import to_categorical\n",
    "\n",
    "# from keras.layers import Embedding\n",
    "\n",
    "from keras.models import Sequential\n",
    "from keras.layers import Dense\n",
    "from keras.layers import LSTM\n",
    "from keras.layers.embeddings import Embedding\n",
    "from keras.preprocessing import sequence\n",
    "\n",
    "from keras.callbacks import EarlyStopping\n",
    "from keras.optimizers import Adam"
   ]
  },
  {
   "cell_type": "code",
   "execution_count": 2,
   "metadata": {},
   "outputs": [],
   "source": [
    "def clean_text(cmnt_text, clean_wiki_tokens = True):\n",
    "    cmnt_text = cmnt_text.lower()\n",
    "    #removing links\n",
    "    cmnt_text = re.sub(r\"https?:\\/\\/(www\\.)?[-a-zA-Z0-9@:%._\\+~#=]{2,256}\\.[a-z]{2,6}\\b([-a-zA-Z0-9@:%_\\+.~#?&//=]*)\", \"\", cmnt_text)\n",
    "    #removing IP addresses\n",
    "    cmnt_text = re.sub(r\"(25[0-5]|2[0-4][0-9]|[01]?[0-9][0-9]?)(\\.(25[0-5]|2[0-4][0-9]|[01]?[0-9][0-9]?)){3}\", \"\", cmnt_text)\n",
    "    \n",
    "    if clean_wiki_tokens:\n",
    "        #removing images\n",
    "        cmnt_text = re.sub(r\"image:[a-zA-Z0-9]*\\.jpg\", \" \", cmnt_text)\n",
    "        cmnt_text = re.sub(r\"image:[a-zA-Z0-9]*\\.png\", \" \", cmnt_text)\n",
    "        cmnt_text = re.sub(r\"image:[a-zA-Z0-9]*\\.gif\", \" \", cmnt_text)\n",
    "        cmnt_text = re.sub(r\"image:[a-zA-Z0-9]*\\.bmp\", \" \", cmnt_text)\n",
    "        \n",
    "        #removing CSS\n",
    "        cmnt_text = re.sub(r\"#([A-Fa-f0-9]{6}|[A-Fa-f0-9]{3})\", \" \",cmnt_text)\n",
    "        cmnt_text = re.sub(r\"\\{\\|[^\\}]*\\|\\}\", \" \", cmnt_text)\n",
    "        \n",
    "        #removing templates\n",
    "        cmnt_text = re.sub(r\"\\[?\\[user:.*\\]\", \" \", cmnt_text)\n",
    "        cmnt_text = re.sub(r\"\\[?\\[wikipedia:.*\\]\", \" \", cmnt_text)\n",
    "        cmnt_text = re.sub(r\"\\[?\\[special:.*\\]\", \" \", cmnt_text)\n",
    "        cmnt_text = re.sub(r\"\\[?\\[category:.*\\]\", \" \", cmnt_text)\n",
    "        \n",
    "    cmnt_text = re.sub(r\"what's\", \"what is \", cmnt_text)\n",
    "    cmnt_text = re.sub(r\"\\'s\", \" \", cmnt_text)\n",
    "    cmnt_text = re.sub(r\"\\'ve\", \" have \", cmnt_text)\n",
    "    cmnt_text = re.sub(r\"can't\", \" cannot \", cmnt_text)\n",
    "    cmnt_text = re.sub(r\"n't\", \" not \", cmnt_text)\n",
    "    cmnt_text = re.sub(r\"i'm\", \" i am \", cmnt_text)\n",
    "    cmnt_text = re.sub(r\"\\'m\", \" i am \", cmnt_text)\n",
    "    cmnt_text = re.sub(r\"\\'re\", \" are \", cmnt_text)\n",
    "    cmnt_text = re.sub(r\"\\'d\", \" would \", cmnt_text)\n",
    "    cmnt_text = re.sub(r\"\\'ll\", \" will \", cmnt_text)\n",
    "    cmnt_text = re.sub(r\",\", \" \", cmnt_text)\n",
    "    cmnt_text = re.sub(r\"\\.\", \" \", cmnt_text)\n",
    "    cmnt_text = re.sub(r\"!\", \" ! \", cmnt_text)\n",
    "    cmnt_text = re.sub(r\"\\/\", \" \", cmnt_text)\n",
    "    cmnt_text = re.sub(r\"\\?\", \" ? \", cmnt_text)\n",
    "    cmnt_text = re.sub(r\"\\!\", \" ! \", cmnt_text)\n",
    "    cmnt_text = re.sub(r\"\\\"\", \" \", cmnt_text)\n",
    "    cmnt_text = re.sub(r\"\\^\", \" ^ \", cmnt_text)\n",
    "    cmnt_text = re.sub(r\"\\+\", \" + \", cmnt_text)\n",
    "    cmnt_text = re.sub(r\"\\-\", \" - \", cmnt_text)\n",
    "    cmnt_text = re.sub(r\"\\=\", \" = \", cmnt_text)\n",
    "    cmnt_text = re.sub(r\"'\", \" \", cmnt_text)\n",
    "    cmnt_text = re.sub(r\"(\\d+)(k)\", r\"\\g<1>000\", cmnt_text)\n",
    "    cmnt_text = re.sub(r\":\", \" : \", cmnt_text)\n",
    "    cmnt_text = re.sub(r\" e g \", \" eg \", cmnt_text)\n",
    "    cmnt_text = re.sub(r\" b g \", \" bg \", cmnt_text)\n",
    "    cmnt_text = re.sub(r\" u s \", \" american \", cmnt_text)\n",
    "    cmnt_text = re.sub(r\"\\0s\", \"0\", cmnt_text)\n",
    "    cmnt_text = re.sub(r\" 9 11 \", \"911\", cmnt_text)\n",
    "    cmnt_text = re.sub(r\"e - mail\", \"email\", cmnt_text)\n",
    "    cmnt_text = re.sub(r\"j k\", \"jk\", cmnt_text)\n",
    "    cmnt_text = re.sub(r\"\\s{2,}\", \" \", cmnt_text)\n",
    "    cmnt_text = re.sub(r\"\\n\", \" \", cmnt_text)\n",
    "    \n",
    "    stpw = stopwords.words('english')\n",
    "    \n",
    "    cmnt_text = \" \".join([x for x in cmnt_text.split() if x not in stpw])\n",
    "    \n",
    "        \n",
    "    return(cmnt_text)"
   ]
  },
  {
   "cell_type": "code",
   "execution_count": 3,
   "metadata": {},
   "outputs": [],
   "source": [
    "def load_data():\n",
    "    \"\"\"\n",
    "    Loads data and returns train, val, and test splits\n",
    "    \"\"\"\n",
    "    # Load the train dataset\n",
    "    df = pd.read_csv(\"train.csv\")\n",
    "    \n",
    "    # Clean the text\n",
    "    df['comment_text'] = df.comment_text.apply(lambda x : clean_text(x))\n",
    "    \n",
    "    # separate explanatory and dependent variables\n",
    "    X = df.iloc[:,1]\n",
    "    y = df.iloc[:,2:]\n",
    "\n",
    "    # split for cross-validation (train-70%, validation 15% and test 15%)\n",
    "    X_train, X_test, y_train, y_test = train_test_split(X, y, test_size=0.3, random_state=123)\n",
    "    X_test, X_val, y_test, y_val = train_test_split(X_test, y_test, test_size=0.5, random_state=123)\n",
    "\n",
    "    return X_train, X_val, X_test, y_train, y_val, y_test"
   ]
  },
  {
   "cell_type": "code",
   "execution_count": 4,
   "metadata": {},
   "outputs": [],
   "source": [
    "X_train, X_val, X_test, y_train, y_val, y_test = load_data()"
   ]
  },
  {
   "cell_type": "code",
   "execution_count": 5,
   "metadata": {},
   "outputs": [],
   "source": [
    "bad_words = pd.read_csv(\"bad_words.csv\")\n",
    "bad_words =  list(bad_words.bad_words.values)"
   ]
  },
  {
   "cell_type": "code",
   "execution_count": 6,
   "metadata": {},
   "outputs": [
    {
     "name": "stdout",
     "output_type": "stream",
     "text": [
      "Found 148983 unique tokens.\n"
     ]
    }
   ],
   "source": [
    "# Set Maximum number of words to be embedded\n",
    "NUM_WORDS = 5000\n",
    "\n",
    "# Define/Load Tokenize text function\n",
    "tokenizer = Tokenizer(num_words=NUM_WORDS,filters='!\"#$%&()*+,-./:;<=>?@[\\\\]^_`{|}~\\t\\n\\'',\n",
    "                      lower=True)\n",
    "\n",
    "# Fit the function on the text\n",
    "tokenizer.fit_on_texts(X_train)\n",
    "\n",
    "# Count number of unique tokens\n",
    "word_index = tokenizer.word_index\n",
    "print('Found %s unique tokens.' % len(word_index))"
   ]
  },
  {
   "cell_type": "code",
   "execution_count": 7,
   "metadata": {},
   "outputs": [
    {
     "data": {
      "text/plain": [
       "1617"
      ]
     },
     "execution_count": 7,
     "metadata": {},
     "output_type": "execute_result"
    }
   ],
   "source": [
    "# size of bad words\n",
    "num_badwords = len(bad_words)\n",
    "num_badwords"
   ]
  },
  {
   "cell_type": "code",
   "execution_count": 8,
   "metadata": {},
   "outputs": [],
   "source": [
    "n = 0\n",
    "temp_bw = bad_words\n",
    "for word, i in word_index.items():\n",
    "    if word in bad_words:\n",
    "        temp_bw.remove(word)\n",
    "        n = n+1\n",
    "    if i > (NUM_WORDS-num_badwords+n):\n",
    "        for bw in temp_bw:\n",
    "            tokenizer.word_index[bw] = i\n",
    "            i=i+1\n",
    "        break"
   ]
  },
  {
   "cell_type": "code",
   "execution_count": 9,
   "metadata": {},
   "outputs": [],
   "source": [
    "# Convert train and val to sequence\n",
    "sequences_train = tokenizer.texts_to_sequences(X_train)\n",
    "sequences_valid=tokenizer.texts_to_sequences(X_val)"
   ]
  },
  {
   "cell_type": "code",
   "execution_count": 10,
   "metadata": {},
   "outputs": [
    {
     "name": "stdout",
     "output_type": "stream",
     "text": [
      "Shape of X train and X validation tensor: (111699, 50) (23936, 50)\n",
      "Shape of label train and validation tensor: (111699, 6) (23936, 6)\n"
     ]
    }
   ],
   "source": [
    "# Limit size of train/val to 50 and pad the sequence\n",
    "X_train = pad_sequences(sequences_train,maxlen=50)\n",
    "X_val = pad_sequences(sequences_valid,maxlen=X_train.shape[1])\n",
    "\n",
    "# Convert target to array\n",
    "y_train = np.asarray(y_train)\n",
    "y_val = np.asarray(y_val)\n",
    "\n",
    "# Printing shape\n",
    "print('Shape of X train and X validation tensor:', X_train.shape,X_val.shape)\n",
    "print('Shape of label train and validation tensor:', y_train.shape,y_val.shape)"
   ]
  },
  {
   "cell_type": "code",
   "execution_count": 11,
   "metadata": {},
   "outputs": [
    {
     "name": "stdout",
     "output_type": "stream",
     "text": [
      "WARNING:tensorflow:From /home/sjaddya/anaconda3/lib/python3.7/site-packages/tensorflow/python/framework/op_def_library.py:263: colocate_with (from tensorflow.python.framework.ops) is deprecated and will be removed in a future version.\n",
      "Instructions for updating:\n",
      "Colocations handled automatically by placer.\n",
      "_________________________________________________________________\n",
      "Layer (type)                 Output Shape              Param #   \n",
      "=================================================================\n",
      "embedding_1 (Embedding)      (None, 50, 300)           1500000   \n",
      "_________________________________________________________________\n",
      "lstm_1 (LSTM)                (None, 256)               570368    \n",
      "_________________________________________________________________\n",
      "dense_1 (Dense)              (None, 128)               32896     \n",
      "_________________________________________________________________\n",
      "dense_2 (Dense)              (None, 64)                8256      \n",
      "_________________________________________________________________\n",
      "dense_3 (Dense)              (None, 64)                4160      \n",
      "_________________________________________________________________\n",
      "dense_4 (Dense)              (None, 6)                 390       \n",
      "=================================================================\n",
      "Total params: 2,116,070\n",
      "Trainable params: 2,116,070\n",
      "Non-trainable params: 0\n",
      "_________________________________________________________________\n"
     ]
    }
   ],
   "source": [
    "embedding_vecor_length = 300\n",
    "model = Sequential()\n",
    "model.add(Embedding(5000, embedding_vecor_length, input_length=X_train.shape[1]))\n",
    "model.add(LSTM(256))\n",
    "model.add(Dense(128, activation='relu'))\n",
    "model.add(Dense(64, activation='relu'))\n",
    "model.add(Dense(64, activation='relu'))\n",
    "model.add(Dense(6, activation='sigmoid'))\n",
    "\n",
    "# Compiling Model using optimizer\n",
    "opt = Adam(lr=1e-3)\n",
    "model.compile(loss='binary_crossentropy',optimizer=opt,metrics=['accuracy'])\n",
    "model.summary()"
   ]
  },
  {
   "cell_type": "code",
   "execution_count": 12,
   "metadata": {},
   "outputs": [
    {
     "name": "stdout",
     "output_type": "stream",
     "text": [
      "WARNING:tensorflow:From /home/sjaddya/anaconda3/lib/python3.7/site-packages/tensorflow/python/ops/math_ops.py:3066: to_int32 (from tensorflow.python.ops.math_ops) is deprecated and will be removed in a future version.\n",
      "Instructions for updating:\n",
      "Use tf.cast instead.\n",
      "Train on 111699 samples, validate on 23936 samples\n",
      "Epoch 1/20\n",
      "111699/111699 [==============================] - 423s 4ms/step - loss: 0.1012 - acc: 0.9687 - val_loss: 0.0556 - val_acc: 0.9804\n",
      "Epoch 2/20\n",
      "111699/111699 [==============================] - 406s 4ms/step - loss: 0.0540 - acc: 0.9807 - val_loss: 0.0526 - val_acc: 0.9814\n",
      "Epoch 3/20\n",
      "111699/111699 [==============================] - 414s 4ms/step - loss: 0.0503 - acc: 0.9816 - val_loss: 0.0528 - val_acc: 0.9811\n"
     ]
    }
   ],
   "source": [
    "#define callbacks\n",
    "early_stopping = EarlyStopping(monitor='val_loss')\n",
    "callbacks_list = [early_stopping]\n",
    "hist = model.fit(X_train, np.asarray(y_train), batch_size=300, epochs=20, verbose=1, \n",
    "                      validation_data=(X_val, np.asarray(y_val)),\n",
    "                      callbacks=callbacks_list, shuffle=True) \n",
    "\n",
    "#hist = model.fit(word_seq_train, y_train, batch_size=batch_size, \n",
    " #                epochs=num_epochs, callbacks=callbacks_list, \n",
    "#                 validation_split=0.1, shuffle=True, verbose=1)"
   ]
  },
  {
   "cell_type": "code",
   "execution_count": 14,
   "metadata": {},
   "outputs": [
    {
     "data": {
      "image/png": "[encoded data removed]",
      "text/plain": [
       "<Figure size 432x288 with 1 Axes>"
      ]
     },
     "metadata": {
      "needs_background": "light"
     },
     "output_type": "display_data"
    }
   ],
   "source": [
    "#plotting Loss\n",
    "plt.figure()\n",
    "plt.suptitle('RNN Loss', fontsize=10)\n",
    "plt.ylabel('Loss', fontsize=16)\n",
    "plt.xlabel('Epoch', fontsize=14)\n",
    "plt.plot(hist.history['loss'], color='b', label='Training Loss')\n",
    "plt.plot(hist.history['val_loss'], color='r', label='Validation Loss')\n",
    "plt.legend(loc='upper right')\n",
    "plt.savefig('RNN_Loss.png', bbox_inches='tight')\n",
    "plt.show()"
   ]
  },
  {
   "cell_type": "code",
   "execution_count": 15,
   "metadata": {},
   "outputs": [
    {
     "data": {
      "image/png": "[encoded data removed]",
      "text/plain": [
       "<Figure size 432x288 with 1 Axes>"
      ]
     },
     "metadata": {
      "needs_background": "light"
     },
     "output_type": "display_data"
    }
   ],
   "source": [
    "plt.figure()\n",
    "plt.plot(hist.history['acc'], lw=2.0, color='b', label='train')\n",
    "plt.plot(hist.history['val_acc'], lw=2.0, color='r', label='val')\n",
    "plt.title('RNN Accuracy')\n",
    "plt.xlabel('Epochs')\n",
    "plt.ylabel('Accuracy')\n",
    "plt.legend(loc='upper left')\n",
    "plt.savefig('RNN_Accuracy.png', bbox_inches='tight')\n",
    "plt.show()"
   ]
  },
  {
   "cell_type": "code",
   "execution_count": 16,
   "metadata": {},
   "outputs": [],
   "source": [
    "sequences_test=tokenizer.texts_to_sequences(X_test)\n",
    "X_test2 = pad_sequences(sequences_test,maxlen=X_train.shape[1])"
   ]
  },
  {
   "cell_type": "code",
   "execution_count": 17,
   "metadata": {},
   "outputs": [
    {
     "data": {
      "text/plain": [
       "array([[0., 0., 0., 0., 0., 0.],\n",
       "       [0., 0., 0., 0., 0., 0.],\n",
       "       [0., 0., 0., 0., 0., 0.]])"
      ]
     },
     "execution_count": 17,
     "metadata": {},
     "output_type": "execute_result"
    }
   ],
   "source": [
    "# Creating empty prediction array\n",
    "col = ['toxic', 'severe_toxic', 'obscene', 'threat','insult', 'identity_hate']\n",
    "\n",
    "# Predict on train, val and test datasets\n",
    "pred_train = model.predict(X_train)\n",
    "pred_test = model.predict(X_test2)\n",
    "pred_val = model.predict(X_val)\n",
    "\n",
    "# Emply array to collect AUC scores\n",
    "AUC = np.zeros((3,6))\n",
    "AUC"
   ]
  },
  {
   "cell_type": "code",
   "execution_count": 24,
   "metadata": {},
   "outputs": [
    {
     "name": "stdout",
     "output_type": "stream",
     "text": [
      "toxic Train AUC: 0.9796179409446246 , Val AUC: 0.9653944943184282 , Test AUC: 0.9631854927365227\n",
      "severe_toxic Train AUC: 0.9894768966167664 , Val AUC: 0.9870680609596691 , Test AUC: 0.9879872838411929\n",
      "obscene Train AUC: 0.9904265022352358 , Val AUC: 0.985572816836823 , Test AUC: 0.9845260850587901\n",
      "threat Train AUC: 0.9687573507908656 , Val AUC: 0.9459995765163627 , Test AUC: 0.9650983523714555\n",
      "insult Train AUC: 0.983539129537453 , Val AUC: 0.9758937457888228 , Test AUC: 0.977551548574276\n",
      "identity_hate Train AUC: 0.9699940301608341 , Val AUC: 0.9585820685496989 , Test AUC: 0.9500222514340099\n",
      "Average Train AUC: 0.9803019750476301 , Average Val AUC: 0.9697517938283008 , Average Test AUC: 0.971395169002708\n"
     ]
    }
   ],
   "source": [
    "from sklearn import metrics\n",
    "for i,x in enumerate(col):\n",
    "    auc = np.array([metrics.roc_auc_score(y_train[:,i], pred_train[:,i]),\n",
    "                    metrics.roc_auc_score(y_val[:,i], pred_val[:,i]),\n",
    "                    metrics.roc_auc_score(y_test[x], pred_test[:,i])])\n",
    "    print(x,\"Train AUC:\",auc[0],\", Val AUC:\",auc[1],\", Test AUC:\",auc[2])\n",
    "    AUC[:,i] = auc\n",
    "    \n",
    "avg_auc = AUC.mean(axis=1)\n",
    "print(\"Average Train AUC:\",avg_auc[0],\", Average Val AUC:\",avg_auc[1],\", Average Test AUC:\",avg_auc[2])"
   ]
  },
  {
   "cell_type": "code",
   "execution_count": 36,
   "metadata": {},
   "outputs": [
    {
     "name": "stdout",
     "output_type": "stream",
     "text": [
      "toxic \n",
      "Train F1: 0.8134030418250952 , Val F1: 0.7771639042357273 , Test F1: 0.7669481853458116\n",
      "severe_toxic \n",
      "Train F1: 0.218209179834462 , Val F1: 0.16370106761565834 , Test F1: 0.23841059602649006\n",
      "obscene \n",
      "Train F1: 0.8232412802972722 , Val F1: 0.8050813815005954 , Test F1: 0.8038897893030794\n",
      "threat \n",
      "Train F1: 0.0 , Val F1: 0.0 , Test F1: 0.0\n",
      "insult \n",
      "Train F1: 0.7273054755043228 , Val F1: 0.6927326816829579 , Test F1: 0.7119684348969749\n",
      "identity_hate \n",
      "Train F1: 0.0 , Val F1: 0.0 , Test F1: 0.0\n",
      "Average Train F1: 0.4303598295768587 , Average Val F1: 0.4064465058391565 , Average Test F1: 0.42020283426205934\n"
     ]
    }
   ],
   "source": [
    "from sklearn.metrics import f1_score\n",
    "\n",
    "for i,x in enumerate(col):\n",
    "    auc = np.array([f1_score(y_train[:,i], np.round(pred_train[:,i])),\n",
    "                    f1_score(y_val[:,i], np.round(pred_val[:,i])),\n",
    "                    f1_score(y_test[x], np.round(pred_test[:,i]))])\n",
    "    print(x,\"\\nTrain F1:\",auc[0],\", Val F1:\",auc[1],\", Test F1:\",auc[2])\n",
    "    AUC[:,i] = auc\n",
    "    \n",
    "avg_auc = AUC.mean(axis=1)\n",
    "print(\"Average Train F1:\",avg_auc[0],\", Average Val F1:\",avg_auc[1],\", Average Test F1:\",avg_auc[2])"
   ]
  },
  {
   "cell_type": "code",
   "execution_count": null,
   "metadata": {},
   "outputs": [],
   "source": []
  }
 ],
 "metadata": {
  "kernelspec": {
   "display_name": "Python 3",
   "language": "python",
   "name": "python3"
  },
  "language_info": {
   "codemirror_mode": {
    "name": "ipython",
    "version": 3
   },
   "file_extension": ".py",
   "mimetype": "text/x-python",
   "name": "python",
   "nbconvert_exporter": "python",
   "pygments_lexer": "ipython3",
   "version": "3.7.1"
  }
 },
 "nbformat": 4,
 "nbformat_minor": 2
}
