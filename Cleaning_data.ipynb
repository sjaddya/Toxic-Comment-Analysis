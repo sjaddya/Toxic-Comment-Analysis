{
 "cells": [
  {
   "cell_type": "code",
   "execution_count": 1,
   "metadata": {},
   "outputs": [],
   "source": [
    "import os\n",
    "import re\n",
    "import numpy as np\n",
    "import pandas as pd\n",
    "\n",
    "from nltk.corpus import stopwords\n",
    "from nltk.stem import SnowballStemmer\n",
    "from string import punctuation\n",
    "from collections import defaultdict\n",
    "import sys"
   ]
  },
  {
   "cell_type": "code",
   "execution_count": 2,
   "metadata": {},
   "outputs": [],
   "source": [
    "train_df = pd.read_csv('train.csv')"
   ]
  },
  {
   "cell_type": "code",
   "execution_count": 3,
   "metadata": {},
   "outputs": [],
   "source": [
    "def clean_text(cmnt_text, clean_wiki_tokens = True):\n",
    "    cmnt_text = cmnt_text.lower()\n",
    "    #removing links\n",
    "    cmnt_text = re.sub(r\"https?:\\/\\/(www\\.)?[-a-zA-Z0-9@:%._\\+~#=]{2,256}\\.[a-z]{2,6}\\b([-a-zA-Z0-9@:%_\\+.~#?&//=]*)\", \"\", cmnt_text)\n",
    "    #removing IP addresses\n",
    "    cmnt_text = re.sub(r\"(25[0-5]|2[0-4][0-9]|[01]?[0-9][0-9]?)(\\.(25[0-5]|2[0-4][0-9]|[01]?[0-9][0-9]?)){3}\", \"\", cmnt_text)\n",
    "    \n",
    "    if clean_wiki_tokens:\n",
    "        #removing images\n",
    "        cmnt_text = re.sub(r\"image:[a-zA-Z0-9]*\\.jpg\", \" \", cmnt_text)\n",
    "        cmnt_text = re.sub(r\"image:[a-zA-Z0-9]*\\.png\", \" \", cmnt_text)\n",
    "        cmnt_text = re.sub(r\"image:[a-zA-Z0-9]*\\.gif\", \" \", cmnt_text)\n",
    "        cmnt_text = re.sub(r\"image:[a-zA-Z0-9]*\\.bmp\", \" \", cmnt_text)\n",
    "        \n",
    "        #removing CSS\n",
    "        cmnt_text = re.sub(r\"#([A-Fa-f0-9]{6}|[A-Fa-f0-9]{3})\", \" \",cmnt_text)\n",
    "        cmnt_text = re.sub(r\"\\{\\|[^\\}]*\\|\\}\", \" \", cmnt_text)\n",
    "        \n",
    "        #removing templates\n",
    "        cmnt_text = re.sub(r\"\\[?\\[user:.*\\]\", \" \", cmnt_text)\n",
    "        cmnt_text = re.sub(r\"\\[?\\[wikipedia:.*\\]\", \" \", cmnt_text)\n",
    "        cmnt_text = re.sub(r\"\\[?\\[special:.*\\]\", \" \", cmnt_text)\n",
    "        cmnt_text = re.sub(r\"\\[?\\[category:.*\\]\", \" \", cmnt_text)\n",
    "        \n",
    "    cmnt_text = re.sub(r\"what's\", \"what is \", cmnt_text)\n",
    "    cmnt_text = re.sub(r\"\\'s\", \" \", cmnt_text)\n",
    "    cmnt_text = re.sub(r\"\\'ve\", \" have \", cmnt_text)\n",
    "    cmnt_text = re.sub(r\"can't\", \" cannot \", cmnt_text)\n",
    "    cmnt_text = re.sub(r\"n't\", \" not \", cmnt_text)\n",
    "    cmnt_text = re.sub(r\"i'm\", \" i am \", cmnt_text)\n",
    "    cmnt_text = re.sub(r\"\\'m\", \" i am \", cmnt_text)\n",
    "    cmnt_text = re.sub(r\"\\'re\", \" are \", cmnt_text)\n",
    "    cmnt_text = re.sub(r\"\\'d\", \" would \", cmnt_text)\n",
    "    cmnt_text = re.sub(r\"\\'ll\", \" will \", cmnt_text)\n",
    "    cmnt_text = re.sub(r\",\", \" \", cmnt_text)\n",
    "    cmnt_text = re.sub(r\"\\.\", \" \", cmnt_text)\n",
    "    cmnt_text = re.sub(r\"!\", \" ! \", cmnt_text)\n",
    "    cmnt_text = re.sub(r\"\\/\", \" \", cmnt_text)\n",
    "    cmnt_text = re.sub(r\"\\?\", \" ? \", cmnt_text)\n",
    "    cmnt_text = re.sub(r\"\\!\", \" ! \", cmnt_text)\n",
    "    cmnt_text = re.sub(r\"\\\"\", \" \", cmnt_text)\n",
    "    cmnt_text = re.sub(r\"\\^\", \" ^ \", cmnt_text)\n",
    "    cmnt_text = re.sub(r\"\\+\", \" + \", cmnt_text)\n",
    "    cmnt_text = re.sub(r\"\\-\", \" - \", cmnt_text)\n",
    "    cmnt_text = re.sub(r\"\\=\", \" = \", cmnt_text)\n",
    "    cmnt_text = re.sub(r\"'\", \" \", cmnt_text)\n",
    "    cmnt_text = re.sub(r\"(\\d+)(k)\", r\"\\g<1>000\", cmnt_text)\n",
    "    cmnt_text = re.sub(r\":\", \" : \", cmnt_text)\n",
    "    cmnt_text = re.sub(r\" e g \", \" eg \", cmnt_text)\n",
    "    cmnt_text = re.sub(r\" b g \", \" bg \", cmnt_text)\n",
    "    cmnt_text = re.sub(r\" u s \", \" american \", cmnt_text)\n",
    "    cmnt_text = re.sub(r\"\\0s\", \"0\", cmnt_text)\n",
    "    cmnt_text = re.sub(r\" 9 11 \", \"911\", cmnt_text)\n",
    "    cmnt_text = re.sub(r\"e - mail\", \"email\", cmnt_text)\n",
    "    cmnt_text = re.sub(r\"j k\", \"jk\", cmnt_text)\n",
    "    cmnt_text = re.sub(r\"\\s{2,}\", \" \", cmnt_text)\n",
    "    cmnt_text = re.sub(r\"\\n\", \" \", cmnt_text)\n",
    "    \n",
    "        \n",
    "    return(cmnt_text)"
   ]
  },
  {
   "cell_type": "code",
   "execution_count": 4,
   "metadata": {},
   "outputs": [
    {
     "data": {
      "text/plain": [
       "\"Explanation\\nWhy the edits made under my username Hardcore Metallica Fan were reverted? They weren't vandalisms, just closure on some GAs after I voted at New York Dolls FAC. And please don't remove the template from the talk page since I'm retired now.89.205.38.27\""
      ]
     },
     "execution_count": 4,
     "metadata": {},
     "output_type": "execute_result"
    }
   ],
   "source": [
    "train_df['comment_text'][0]"
   ]
  },
  {
   "cell_type": "code",
   "execution_count": 5,
   "metadata": {},
   "outputs": [],
   "source": [
    "txt = clean_text(train_df['comment_text'][0])"
   ]
  },
  {
   "cell_type": "code",
   "execution_count": 6,
   "metadata": {},
   "outputs": [
    {
     "data": {
      "text/plain": [
       "'explanation why the edits made under my username hardcore metallica fan were reverted ? they were not vandalisms just closure on some gas after i voted at new york dolls fac and please do not remove the template from the talk page since i am retired now '"
      ]
     },
     "execution_count": 6,
     "metadata": {},
     "output_type": "execute_result"
    }
   ],
   "source": [
    "txt"
   ]
  },
  {
   "cell_type": "code",
   "execution_count": 7,
   "metadata": {},
   "outputs": [],
   "source": [
    "train_df['clean_cmnts'] = train_df['comment_text'].apply(clean_text)"
   ]
  },
  {
   "cell_type": "code",
   "execution_count": 8,
   "metadata": {},
   "outputs": [
    {
     "data": {
      "text/html": [
       "<div>\n",
       "<style scoped>\n",
       "    .dataframe tbody tr th:only-of-type {\n",
       "        vertical-align: middle;\n",
       "    }\n",
       "\n",
       "    .dataframe tbody tr th {\n",
       "        vertical-align: top;\n",
       "    }\n",
       "\n",
       "    .dataframe thead th {\n",
       "        text-align: right;\n",
       "    }\n",
       "</style>\n",
       "<table border=\"1\" class=\"dataframe\">\n",
       "  <thead>\n",
       "    <tr style=\"text-align: right;\">\n",
       "      <th></th>\n",
       "      <th>id</th>\n",
       "      <th>comment_text</th>\n",
       "      <th>toxic</th>\n",
       "      <th>severe_toxic</th>\n",
       "      <th>obscene</th>\n",
       "      <th>threat</th>\n",
       "      <th>insult</th>\n",
       "      <th>identity_hate</th>\n",
       "      <th>clean_cmnts</th>\n",
       "    </tr>\n",
       "  </thead>\n",
       "  <tbody>\n",
       "    <tr>\n",
       "      <th>0</th>\n",
       "      <td>0000997932d777bf</td>\n",
       "      <td>Explanation\\nWhy the edits made under my usern...</td>\n",
       "      <td>0</td>\n",
       "      <td>0</td>\n",
       "      <td>0</td>\n",
       "      <td>0</td>\n",
       "      <td>0</td>\n",
       "      <td>0</td>\n",
       "      <td>explanation why the edits made under my userna...</td>\n",
       "    </tr>\n",
       "    <tr>\n",
       "      <th>1</th>\n",
       "      <td>000103f0d9cfb60f</td>\n",
       "      <td>D'aww! He matches this background colour I'm s...</td>\n",
       "      <td>0</td>\n",
       "      <td>0</td>\n",
       "      <td>0</td>\n",
       "      <td>0</td>\n",
       "      <td>0</td>\n",
       "      <td>0</td>\n",
       "      <td>d aww ! he matches this background colour i am...</td>\n",
       "    </tr>\n",
       "    <tr>\n",
       "      <th>2</th>\n",
       "      <td>000113f07ec002fd</td>\n",
       "      <td>Hey man, I'm really not trying to edit war. It...</td>\n",
       "      <td>0</td>\n",
       "      <td>0</td>\n",
       "      <td>0</td>\n",
       "      <td>0</td>\n",
       "      <td>0</td>\n",
       "      <td>0</td>\n",
       "      <td>hey man i am really not trying to edit war it ...</td>\n",
       "    </tr>\n",
       "    <tr>\n",
       "      <th>3</th>\n",
       "      <td>0001b41b1c6bb37e</td>\n",
       "      <td>\"\\nMore\\nI can't make any real suggestions on ...</td>\n",
       "      <td>0</td>\n",
       "      <td>0</td>\n",
       "      <td>0</td>\n",
       "      <td>0</td>\n",
       "      <td>0</td>\n",
       "      <td>0</td>\n",
       "      <td>more i cannot make any real suggestions on im...</td>\n",
       "    </tr>\n",
       "    <tr>\n",
       "      <th>4</th>\n",
       "      <td>0001d958c54c6e35</td>\n",
       "      <td>You, sir, are my hero. Any chance you remember...</td>\n",
       "      <td>0</td>\n",
       "      <td>0</td>\n",
       "      <td>0</td>\n",
       "      <td>0</td>\n",
       "      <td>0</td>\n",
       "      <td>0</td>\n",
       "      <td>you sir are my hero any chance you remember wh...</td>\n",
       "    </tr>\n",
       "  </tbody>\n",
       "</table>\n",
       "</div>"
      ],
      "text/plain": [
       "                 id                                       comment_text  toxic  \\\n",
       "0  0000997932d777bf  Explanation\\nWhy the edits made under my usern...      0   \n",
       "1  000103f0d9cfb60f  D'aww! He matches this background colour I'm s...      0   \n",
       "2  000113f07ec002fd  Hey man, I'm really not trying to edit war. It...      0   \n",
       "3  0001b41b1c6bb37e  \"\\nMore\\nI can't make any real suggestions on ...      0   \n",
       "4  0001d958c54c6e35  You, sir, are my hero. Any chance you remember...      0   \n",
       "\n",
       "   severe_toxic  obscene  threat  insult  identity_hate  \\\n",
       "0             0        0       0       0              0   \n",
       "1             0        0       0       0              0   \n",
       "2             0        0       0       0              0   \n",
       "3             0        0       0       0              0   \n",
       "4             0        0       0       0              0   \n",
       "\n",
       "                                         clean_cmnts  \n",
       "0  explanation why the edits made under my userna...  \n",
       "1  d aww ! he matches this background colour i am...  \n",
       "2  hey man i am really not trying to edit war it ...  \n",
       "3   more i cannot make any real suggestions on im...  \n",
       "4  you sir are my hero any chance you remember wh...  "
      ]
     },
     "execution_count": 8,
     "metadata": {},
     "output_type": "execute_result"
    }
   ],
   "source": [
    "train_df.head()"
   ]
  },
  {
   "cell_type": "code",
   "execution_count": 9,
   "metadata": {},
   "outputs": [],
   "source": [
    "train_df = train_df.drop(['comment_text'], axis=1)"
   ]
  },
  {
   "cell_type": "code",
   "execution_count": 10,
   "metadata": {},
   "outputs": [
    {
     "data": {
      "text/html": [
       "<div>\n",
       "<style scoped>\n",
       "    .dataframe tbody tr th:only-of-type {\n",
       "        vertical-align: middle;\n",
       "    }\n",
       "\n",
       "    .dataframe tbody tr th {\n",
       "        vertical-align: top;\n",
       "    }\n",
       "\n",
       "    .dataframe thead th {\n",
       "        text-align: right;\n",
       "    }\n",
       "</style>\n",
       "<table border=\"1\" class=\"dataframe\">\n",
       "  <thead>\n",
       "    <tr style=\"text-align: right;\">\n",
       "      <th></th>\n",
       "      <th>id</th>\n",
       "      <th>toxic</th>\n",
       "      <th>severe_toxic</th>\n",
       "      <th>obscene</th>\n",
       "      <th>threat</th>\n",
       "      <th>insult</th>\n",
       "      <th>identity_hate</th>\n",
       "      <th>clean_cmnts</th>\n",
       "    </tr>\n",
       "  </thead>\n",
       "  <tbody>\n",
       "    <tr>\n",
       "      <th>0</th>\n",
       "      <td>0000997932d777bf</td>\n",
       "      <td>0</td>\n",
       "      <td>0</td>\n",
       "      <td>0</td>\n",
       "      <td>0</td>\n",
       "      <td>0</td>\n",
       "      <td>0</td>\n",
       "      <td>explanation why the edits made under my userna...</td>\n",
       "    </tr>\n",
       "    <tr>\n",
       "      <th>1</th>\n",
       "      <td>000103f0d9cfb60f</td>\n",
       "      <td>0</td>\n",
       "      <td>0</td>\n",
       "      <td>0</td>\n",
       "      <td>0</td>\n",
       "      <td>0</td>\n",
       "      <td>0</td>\n",
       "      <td>d aww ! he matches this background colour i am...</td>\n",
       "    </tr>\n",
       "    <tr>\n",
       "      <th>2</th>\n",
       "      <td>000113f07ec002fd</td>\n",
       "      <td>0</td>\n",
       "      <td>0</td>\n",
       "      <td>0</td>\n",
       "      <td>0</td>\n",
       "      <td>0</td>\n",
       "      <td>0</td>\n",
       "      <td>hey man i am really not trying to edit war it ...</td>\n",
       "    </tr>\n",
       "    <tr>\n",
       "      <th>3</th>\n",
       "      <td>0001b41b1c6bb37e</td>\n",
       "      <td>0</td>\n",
       "      <td>0</td>\n",
       "      <td>0</td>\n",
       "      <td>0</td>\n",
       "      <td>0</td>\n",
       "      <td>0</td>\n",
       "      <td>more i cannot make any real suggestions on im...</td>\n",
       "    </tr>\n",
       "    <tr>\n",
       "      <th>4</th>\n",
       "      <td>0001d958c54c6e35</td>\n",
       "      <td>0</td>\n",
       "      <td>0</td>\n",
       "      <td>0</td>\n",
       "      <td>0</td>\n",
       "      <td>0</td>\n",
       "      <td>0</td>\n",
       "      <td>you sir are my hero any chance you remember wh...</td>\n",
       "    </tr>\n",
       "  </tbody>\n",
       "</table>\n",
       "</div>"
      ],
      "text/plain": [
       "                 id  toxic  severe_toxic  obscene  threat  insult  \\\n",
       "0  0000997932d777bf      0             0        0       0       0   \n",
       "1  000103f0d9cfb60f      0             0        0       0       0   \n",
       "2  000113f07ec002fd      0             0        0       0       0   \n",
       "3  0001b41b1c6bb37e      0             0        0       0       0   \n",
       "4  0001d958c54c6e35      0             0        0       0       0   \n",
       "\n",
       "   identity_hate                                        clean_cmnts  \n",
       "0              0  explanation why the edits made under my userna...  \n",
       "1              0  d aww ! he matches this background colour i am...  \n",
       "2              0  hey man i am really not trying to edit war it ...  \n",
       "3              0   more i cannot make any real suggestions on im...  \n",
       "4              0  you sir are my hero any chance you remember wh...  "
      ]
     },
     "execution_count": 10,
     "metadata": {},
     "output_type": "execute_result"
    }
   ],
   "source": [
    "train_df.head()"
   ]
  },
  {
   "cell_type": "code",
   "execution_count": 11,
   "metadata": {},
   "outputs": [],
   "source": [
    "label_cols = ['toxic', 'severe_toxic', 'obscene', 'threat', 'insult', 'identity_hate']"
   ]
  },
  {
   "cell_type": "code",
   "execution_count": 12,
   "metadata": {},
   "outputs": [],
   "source": [
    "X = train_df[['clean_cmnts']]\n",
    "y = train_df[label_cols]"
   ]
  },
  {
   "cell_type": "code",
   "execution_count": 13,
   "metadata": {},
   "outputs": [],
   "source": [
    "from sklearn.linear_model import LogisticRegression\n",
    "from sklearn.feature_extraction.text import CountVectorizer, TfidfVectorizer\n",
    "from sklearn.model_selection import train_test_split\n",
    "from sklearn.metrics import confusion_matrix\n",
    "from sklearn.metrics import accuracy_score, f1_score\n",
    "import re, string"
   ]
  },
  {
   "cell_type": "code",
   "execution_count": 14,
   "metadata": {},
   "outputs": [],
   "source": [
    "X_train, X_test, y_train, y_test = train_test_split(X, y, test_size = 0.3, random_state = 42)"
   ]
  },
  {
   "cell_type": "code",
   "execution_count": 15,
   "metadata": {},
   "outputs": [
    {
     "data": {
      "text/html": [
       "<div>\n",
       "<style scoped>\n",
       "    .dataframe tbody tr th:only-of-type {\n",
       "        vertical-align: middle;\n",
       "    }\n",
       "\n",
       "    .dataframe tbody tr th {\n",
       "        vertical-align: top;\n",
       "    }\n",
       "\n",
       "    .dataframe thead th {\n",
       "        text-align: right;\n",
       "    }\n",
       "</style>\n",
       "<table border=\"1\" class=\"dataframe\">\n",
       "  <thead>\n",
       "    <tr style=\"text-align: right;\">\n",
       "      <th></th>\n",
       "      <th>toxic</th>\n",
       "      <th>severe_toxic</th>\n",
       "      <th>obscene</th>\n",
       "      <th>threat</th>\n",
       "      <th>insult</th>\n",
       "      <th>identity_hate</th>\n",
       "    </tr>\n",
       "  </thead>\n",
       "  <tbody>\n",
       "    <tr>\n",
       "      <th>54568</th>\n",
       "      <td>0</td>\n",
       "      <td>0</td>\n",
       "      <td>0</td>\n",
       "      <td>0</td>\n",
       "      <td>0</td>\n",
       "      <td>0</td>\n",
       "    </tr>\n",
       "    <tr>\n",
       "      <th>3786</th>\n",
       "      <td>0</td>\n",
       "      <td>0</td>\n",
       "      <td>0</td>\n",
       "      <td>0</td>\n",
       "      <td>0</td>\n",
       "      <td>0</td>\n",
       "    </tr>\n",
       "    <tr>\n",
       "      <th>22938</th>\n",
       "      <td>0</td>\n",
       "      <td>0</td>\n",
       "      <td>0</td>\n",
       "      <td>0</td>\n",
       "      <td>0</td>\n",
       "      <td>0</td>\n",
       "    </tr>\n",
       "    <tr>\n",
       "      <th>137856</th>\n",
       "      <td>0</td>\n",
       "      <td>0</td>\n",
       "      <td>0</td>\n",
       "      <td>0</td>\n",
       "      <td>0</td>\n",
       "      <td>0</td>\n",
       "    </tr>\n",
       "    <tr>\n",
       "      <th>143038</th>\n",
       "      <td>0</td>\n",
       "      <td>0</td>\n",
       "      <td>0</td>\n",
       "      <td>0</td>\n",
       "      <td>0</td>\n",
       "      <td>0</td>\n",
       "    </tr>\n",
       "  </tbody>\n",
       "</table>\n",
       "</div>"
      ],
      "text/plain": [
       "        toxic  severe_toxic  obscene  threat  insult  identity_hate\n",
       "54568       0             0        0       0       0              0\n",
       "3786        0             0        0       0       0              0\n",
       "22938       0             0        0       0       0              0\n",
       "137856      0             0        0       0       0              0\n",
       "143038      0             0        0       0       0              0"
      ]
     },
     "execution_count": 15,
     "metadata": {},
     "output_type": "execute_result"
    }
   ],
   "source": [
    "y_train.head()"
   ]
  },
  {
   "cell_type": "code",
   "execution_count": 16,
   "metadata": {},
   "outputs": [
    {
     "data": {
      "text/html": [
       "<div>\n",
       "<style scoped>\n",
       "    .dataframe tbody tr th:only-of-type {\n",
       "        vertical-align: middle;\n",
       "    }\n",
       "\n",
       "    .dataframe tbody tr th {\n",
       "        vertical-align: top;\n",
       "    }\n",
       "\n",
       "    .dataframe thead th {\n",
       "        text-align: right;\n",
       "    }\n",
       "</style>\n",
       "<table border=\"1\" class=\"dataframe\">\n",
       "  <thead>\n",
       "    <tr style=\"text-align: right;\">\n",
       "      <th></th>\n",
       "      <th>clean_cmnts</th>\n",
       "    </tr>\n",
       "  </thead>\n",
       "  <tbody>\n",
       "    <tr>\n",
       "      <th>54568</th>\n",
       "      <td>conflict of interest note by your user name i...</td>\n",
       "    </tr>\n",
       "    <tr>\n",
       "      <th>3786</th>\n",
       "      <td>(update : actually i changed this to something...</td>\n",
       "    </tr>\n",
       "    <tr>\n",
       "      <th>22938</th>\n",
       "      <td>mrca article sniperz11 thanks for your comment...</td>\n",
       "    </tr>\n",
       "    <tr>\n",
       "      <th>137856</th>\n",
       "      <td>arguing that bart and caltrain should get more...</td>\n",
       "    </tr>\n",
       "    <tr>\n",
       "      <th>143038</th>\n",
       "      <td>blocked hi i blocked you for 24 hours for bei...</td>\n",
       "    </tr>\n",
       "  </tbody>\n",
       "</table>\n",
       "</div>"
      ],
      "text/plain": [
       "                                              clean_cmnts\n",
       "54568    conflict of interest note by your user name i...\n",
       "3786    (update : actually i changed this to something...\n",
       "22938   mrca article sniperz11 thanks for your comment...\n",
       "137856  arguing that bart and caltrain should get more...\n",
       "143038   blocked hi i blocked you for 24 hours for bei..."
      ]
     },
     "execution_count": 16,
     "metadata": {},
     "output_type": "execute_result"
    }
   ],
   "source": [
    "X_train.head()"
   ]
  },
  {
   "cell_type": "code",
   "execution_count": 17,
   "metadata": {},
   "outputs": [],
   "source": [
    "re_tok = re.compile(f'([{string.punctuation}“”¨«»®´·º½¾¿¡§£₤‘’])')\n",
    "def tokenize(s):\n",
    "    return re_tok.sub(r'\\1', s).split()"
   ]
  },
  {
   "cell_type": "code",
   "execution_count": 47,
   "metadata": {},
   "outputs": [],
   "source": [
    "vec = TfidfVectorizer(ngram_range=(1,2), tokenizer=tokenize,\n",
    "               min_df=3, max_df=0.9, strip_accents='unicode', use_idf=1,\n",
    "               smooth_idf=1, sublinear_tf=1 )"
   ]
  },
  {
   "cell_type": "code",
   "execution_count": 48,
   "metadata": {},
   "outputs": [
    {
     "data": {
      "text/plain": [
       "((111699, 1), (47872, 1), (111699, 6), (47872, 6))"
      ]
     },
     "execution_count": 48,
     "metadata": {},
     "output_type": "execute_result"
    }
   ],
   "source": [
    "X_train.shape, X_test.shape, y_train.shape, y_test.shape"
   ]
  },
  {
   "cell_type": "code",
   "execution_count": 49,
   "metadata": {},
   "outputs": [],
   "source": [
    "trn_vec_doc = vec.fit_transform(X_train['clean_cmnts'])\n",
    "test_vec_doc = vec.transform(X_test['clean_cmnts'])"
   ]
  },
  {
   "cell_type": "code",
   "execution_count": 50,
   "metadata": {},
   "outputs": [
    {
     "data": {
      "text/plain": [
       "((111699, 304899), (47872, 304899), (111699, 6), (47872, 6))"
      ]
     },
     "execution_count": 50,
     "metadata": {},
     "output_type": "execute_result"
    }
   ],
   "source": [
    "trn_vec_doc.shape, test_vec_doc.shape, y_train.shape, y_test.shape"
   ]
  },
  {
   "cell_type": "code",
   "execution_count": 51,
   "metadata": {},
   "outputs": [],
   "source": [
    "def model(y):\n",
    "    lr=LogisticRegression(C=4, solver='saga')\n",
    "    lr.fit(trn_vec_doc, y)\n",
    "    return lr"
   ]
  },
  {
   "cell_type": "code",
   "execution_count": 52,
   "metadata": {},
   "outputs": [
    {
     "name": "stdout",
     "output_type": "stream",
     "text": [
      "fit toxic\n",
      "fit severe_toxic\n",
      "fit obscene\n",
      "fit threat\n",
      "fit insult\n",
      "fit identity_hate\n"
     ]
    }
   ],
   "source": [
    "preds = np.zeros((len(X_test), len(label_cols)))\n",
    "\n",
    "for i, j in enumerate(label_cols):\n",
    "    print('fit', j)\n",
    "    m = model(y_train[j])\n",
    "    preds[:,i] = m.predict_proba(test_vec_doc)[:,1]"
   ]
  },
  {
   "cell_type": "code",
   "execution_count": 53,
   "metadata": {},
   "outputs": [
    {
     "name": "stdout",
     "output_type": "stream",
     "text": [
      "toxic\n",
      "[[43001   289]\n",
      " [ 1623  2959]]\n",
      "0.7558109833971903\n",
      "\n",
      "\n",
      "severe_toxic\n",
      "[[47291    95]\n",
      " [  361   125]]\n",
      "0.3541076487252125\n",
      "\n",
      "\n",
      "obscene\n",
      "[[45156   160]\n",
      " [  937  1619]]\n",
      "0.7469434832756633\n",
      "\n",
      "\n",
      "threat\n",
      "[[47731     5]\n",
      " [  106    30]]\n",
      "0.3508771929824561\n",
      "\n",
      "\n",
      "insult\n",
      "[[45213   270]\n",
      " [ 1098  1291]]\n",
      "0.6536708860759494\n",
      "\n",
      "\n",
      "identity_hate\n",
      "[[47414    26]\n",
      " [  346    86]]\n",
      "0.3161764705882353\n",
      "\n",
      "\n"
     ]
    }
   ],
   "source": [
    "p = preds.round()\n",
    "\n",
    "for i, j in enumerate(label_cols):\n",
    "    print(j)\n",
    "    print(confusion_matrix(y_test[j], p[:, i]))\n",
    "    print(f1_score(y_test[j], p[:, i]))\n",
    "    print('\\n')"
   ]
  },
  {
   "cell_type": "code",
   "execution_count": 39,
   "metadata": {},
   "outputs": [
    {
     "name": "stdout",
     "output_type": "stream",
     "text": [
      "toxic\n",
      "[[42895   395]\n",
      " [ 1481  3101]]\n",
      "0.7677642980935875\n",
      "\n",
      "\n",
      "severe_toxic\n",
      "[[47284   102]\n",
      " [  348   138]]\n",
      "0.38016528925619836\n",
      "\n",
      "\n",
      "obscene\n",
      "[[45131   185]\n",
      " [  826  1730]]\n",
      "0.7738760903600983\n",
      "\n",
      "\n",
      "threat\n",
      "[[47716    20]\n",
      " [  104    32]]\n",
      "0.3404255319148936\n",
      "\n",
      "\n",
      "insult\n",
      "[[45173   310]\n",
      " [ 1046  1343]]\n",
      "0.6645225136071251\n",
      "\n",
      "\n",
      "identity_hate\n",
      "[[47393    47]\n",
      " [  333    99]]\n",
      "0.34256055363321797\n",
      "\n",
      "\n"
     ]
    }
   ],
   "source": [
    "p = preds.round()\n",
    "\n",
    "for i, j in enumerate(label_cols):\n",
    "    print(j)\n",
    "    print(confusion_matrix(y_test[j], p[:, i]))\n",
    "    print(f1_score(y_test[j], p[:, i]))\n",
    "    print('\\n')"
   ]
  },
  {
   "cell_type": "code",
   "execution_count": null,
   "metadata": {},
   "outputs": [],
   "source": []
  }
 ],
 "metadata": {
  "kernelspec": {
   "display_name": "Python 3",
   "language": "python",
   "name": "python3"
  },
  "language_info": {
   "codemirror_mode": {
    "name": "ipython",
    "version": 3
   },
   "file_extension": ".py",
   "mimetype": "text/x-python",
   "name": "python",
   "nbconvert_exporter": "python",
   "pygments_lexer": "ipython3",
   "version": "3.7.1"
  }
 },
 "nbformat": 4,
 "nbformat_minor": 2
}
